{
 "cells": [
  {
   "cell_type": "markdown",
   "metadata": {},
   "source": [
    "# Projeto 2 - Ciência dos Dados"
   ]
  },
  {
   "cell_type": "markdown",
   "metadata": {},
   "source": [
    "Nome: Ellen Beatriz Shen\n",
    "\n",
    "Nome: Gabriela Moreno Boriero"
   ]
  },
  {
   "cell_type": "markdown",
   "metadata": {},
   "source": [
    "___\n",
    "# Classificador automático de sentimento\n"
   ]
  },
  {
   "cell_type": "markdown",
   "metadata": {},
   "source": [
    "## Preparando o ambiente no jupyter:"
   ]
  },
  {
   "cell_type": "code",
   "execution_count": 1,
   "metadata": {
    "jupyter": {
     "outputs_hidden": true
    }
   },
   "outputs": [],
   "source": [
    "import math\n",
    "import os.path\n",
    "import pandas as pd\n",
    "import json\n",
    "from random import shuffle"
   ]
  },
  {
   "cell_type": "markdown",
   "metadata": {},
   "source": [
    "___\n",
    "### Montando o Classificador Naive-Bayes\n",
    "\n",
    "Considerando apenas as mensagens da planilha Treinamento, ensine  seu classificador."
   ]
  },
  {
   "cell_type": "code",
   "execution_count": 2,
   "metadata": {},
   "outputs": [],
   "source": [
    "import re \n",
    "\n",
    "def cleanup(text):\n",
    "    #Função de limpeza muito simples que troca alguns sinais básicos por espaços\n",
    "    import string\n",
    "    punctuation = '[!-.:?;]' # Note que os sinais [] são delimitadores de um conjunto.\n",
    "    pattern = re.compile(punctuation)\n",
    "    text_subbed = re.sub(pattern, ' ', text)\n",
    "    return text_subbed"
   ]
  },
  {
   "cell_type": "code",
   "execution_count": 3,
   "metadata": {},
   "outputs": [],
   "source": [
    "gosta_de_acai = cleanup((open(\"gosta.txt\", \"r\", encoding=\"utf8\").read()).lower())\n",
    "indiferente_acai = cleanup((open(\"indiferente.txt\", \"r\", encoding=\"utf8\").read()).lower())\n",
    "nao_gosta_de_acai = cleanup((open(\"nao_gosta.txt\", \"r\", encoding=\"utf8\").read()).lower())"
   ]
  },
  {
   "cell_type": "code",
   "execution_count": 4,
   "metadata": {},
   "outputs": [],
   "source": [
    "tabela_gosta = (pd.Series(gosta_de_acai.split())).value_counts()\n",
    "tabela_indiferente = (pd.Series(indiferente_acai.split())).value_counts()\n",
    "tabela_nao_gosta = (pd.Series(nao_gosta_de_acai.split())).value_counts()"
   ]
  },
  {
   "cell_type": "code",
   "execution_count": 5,
   "metadata": {},
   "outputs": [],
   "source": [
    "tabela_gosta_acai_relativa = (pd.Series(gosta_de_acai.split())).value_counts(True)\n",
    "tabela_indiferente_acai_relativa = (pd.Series(indiferente_acai.split())).value_counts(True)\n",
    "tabela_nao_gosta_acai_relativa = (pd.Series(nao_gosta_de_acai.split())).value_counts(True)"
   ]
  },
  {
   "cell_type": "code",
   "execution_count": 12,
   "metadata": {},
   "outputs": [],
   "source": [
    "gosta_inter = (set(gosta_de_acai.split())).intersection(set(indiferente_acai.split()))\n",
    "nao_gosta_inter = (set(nao_gosta_de_acai.split())).intersection(set(indiferente_acai.split()))"
   ]
  },
  {
   "cell_type": "code",
   "execution_count": 19,
   "metadata": {},
   "outputs": [
    {
     "data": {
      "text/plain": [
       "por            0.003322\n",
       "meu            0.003322\n",
       "hj             0.003322\n",
       "promo          0.003322\n",
       "pai            0.003322\n",
       "quase          0.003322\n",
       "ve             0.003322\n",
       "litros         0.003322\n",
       "mim            0.003322\n",
       "tomar          0.003322\n",
       "rolê           0.003322\n",
       "gostoso        0.003322\n",
       "tenho          0.003322\n",
       "caldo          0.003322\n",
       "às             0.003322\n",
       "milkshake      0.003322\n",
       "debochada      0.003322\n",
       "ia             0.003322\n",
       "burguer        0.003322\n",
       "pedir          0.003322\n",
       "carne          0.003322\n",
       "bem            0.003322\n",
       "kkkkk          0.003322\n",
       "pastel         0.003322\n",
       "https          0.003322\n",
       "lá             0.003322\n",
       "mal            0.003322\n",
       "calor          0.003322\n",
       "cmg            0.003322\n",
       "da             0.003322\n",
       "                 ...   \n",
       "salgados       0.003322\n",
       "tu             0.003322\n",
       "fui            0.003322\n",
       "que            0.003322\n",
       "pedindo        0.003322\n",
       "ano            0.003322\n",
       "um             0.003322\n",
       "enquanto       0.003322\n",
       "porém          0.003322\n",
       "para           0.003322\n",
       "ata            0.003322\n",
       "for            0.003322\n",
       "acabei         0.003322\n",
       "pelo           0.003322\n",
       "comendo        0.003322\n",
       "quem           0.003322\n",
       "ótima          0.003322\n",
       "falou          0.003322\n",
       "kkkkkkkkkkk    0.003322\n",
       "cima           0.003322\n",
       "mas            0.003322\n",
       "😍              0.003322\n",
       "to             0.003322\n",
       "chocolate      0.003322\n",
       "😊              0.003322\n",
       "era            0.003322\n",
       "fica           0.003322\n",
       "cara           0.003322\n",
       "passar         0.003322\n",
       "semana         0.003322\n",
       "Length: 301, dtype: float64"
      ]
     },
     "execution_count": 19,
     "metadata": {},
     "output_type": "execute_result"
    }
   ],
   "source": [
    "gosta_total_r = (pd.Series(list(gosta_inter)).value_counts(True))\n",
    "nao_gosta_total_r = (pd.Series(list(nao_gosta_inter)).value_counts(True))\n",
    "gosta_total_r"
   ]
  },
  {
   "cell_type": "markdown",
   "metadata": {},
   "source": [
    "___\n",
    "### Verificando a performance\n",
    "\n",
    "Agora você deve testar o seu classificador com a base de Testes."
   ]
  },
  {
   "cell_type": "code",
   "execution_count": null,
   "metadata": {},
   "outputs": [],
   "source": []
  },
  {
   "cell_type": "code",
   "execution_count": null,
   "metadata": {},
   "outputs": [],
   "source": []
  },
  {
   "cell_type": "code",
   "execution_count": null,
   "metadata": {},
   "outputs": [],
   "source": []
  },
  {
   "cell_type": "markdown",
   "metadata": {},
   "source": [
    "___\n",
    "### Concluindo"
   ]
  },
  {
   "cell_type": "code",
   "execution_count": null,
   "metadata": {},
   "outputs": [],
   "source": []
  },
  {
   "cell_type": "code",
   "execution_count": null,
   "metadata": {},
   "outputs": [],
   "source": []
  },
  {
   "cell_type": "markdown",
   "metadata": {},
   "source": [
    "## Aperfeiçoamento:\n",
    "\n",
    "Os trabalhos vão evoluir em conceito dependendo da quantidade de itens avançados:\n",
    "\n",
    "* Limpar: \\n, :, \", ', (, ), etc SEM remover emojis\n",
    "* Corrigir separação de espaços entre palavras e emojis ou emojis e emojis\n",
    "* Propor outras limpezas e transformações que não afetem a qualidade da informação ou classificação\n",
    "* Criar categorias intermediárias de relevância baseadas na probabilidade: ex.: muito relevante, relevante, neutro, irrelevante, muito irrelevante (3 categorias: C, mais categorias conta para B)\n",
    "* Explicar por que não posso usar o próprio classificador para gerar mais amostras de treinamento\n",
    "* Propor diferentes cenários para Naïve Bayes fora do contexto do projeto\n",
    "* Sugerir e explicar melhorias reais com indicações concretas de como implementar (indicar como fazer e indicar material de pesquisa)\n",
    "* Montar um dashboard que periodicamente realiza análise de sentimento e visualiza estes dados"
   ]
  },
  {
   "cell_type": "markdown",
   "metadata": {},
   "source": [
    "# Referências"
   ]
  },
  {
   "cell_type": "markdown",
   "metadata": {},
   "source": [
    "[Naive Bayes and Text Classification](https://arxiv.org/pdf/1410.5329.pdf)  **Mais completo**\n",
    "\n",
    "[A practical explanation of a Naive Bayes Classifier](https://monkeylearn.com/blog/practical-explanation-naive-bayes-classifier/) **Mais simples**"
   ]
  },
  {
   "cell_type": "code",
   "execution_count": null,
   "metadata": {},
   "outputs": [],
   "source": []
  }
 ],
 "metadata": {
  "kernelspec": {
   "display_name": "Python 3",
   "language": "python",
   "name": "python3"
  },
  "language_info": {
   "codemirror_mode": {
    "name": "ipython",
    "version": 3
   },
   "file_extension": ".py",
   "mimetype": "text/x-python",
   "name": "python",
   "nbconvert_exporter": "python",
   "pygments_lexer": "ipython3",
   "version": "3.7.1"
  }
 },
 "nbformat": 4,
 "nbformat_minor": 4
}
