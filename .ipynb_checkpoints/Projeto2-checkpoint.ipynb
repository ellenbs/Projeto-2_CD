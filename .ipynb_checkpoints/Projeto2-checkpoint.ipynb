{
 "cells": [
  {
   "cell_type": "markdown",
   "metadata": {},
   "source": [
    "# Projeto 2 - Ciência dos Dados"
   ]
  },
  {
   "cell_type": "markdown",
   "metadata": {},
   "source": [
    "Nome: Ellen Beatriz Shen\n",
    "\n",
    "Nome: Gabriela Moreno Boriero"
   ]
  },
  {
   "cell_type": "markdown",
   "metadata": {},
   "source": [
    "___\n",
    "# Classificador automático de sentimento\n"
   ]
  },
  {
   "cell_type": "markdown",
   "metadata": {},
   "source": [
    "## Preparando o ambiente no jupyter:"
   ]
  },
  {
   "cell_type": "code",
   "execution_count": 1,
   "metadata": {
    "jupyter": {
     "outputs_hidden": true
    }
   },
   "outputs": [],
   "source": [
    "import math\n",
    "import os.path\n",
    "import pandas as pd\n",
    "import json\n",
    "from random import shuffle"
   ]
  },
  {
   "cell_type": "markdown",
   "metadata": {},
   "source": [
    "___\n",
    "### Montando o Classificador Naive-Bayes\n",
    "\n",
    "Considerando apenas as mensagens da planilha Treinamento, ensine  seu classificador."
   ]
  },
  {
   "cell_type": "code",
   "execution_count": 2,
   "metadata": {},
   "outputs": [],
   "source": [
    "import re \n",
    "\n",
    "def cleanup(text):\n",
    "    #Função de limpeza muito simples que troca alguns sinais básicos por espaços\n",
    "    import string\n",
    "    punctuation = '[!-.:?;]' # Note que os sinais [] são delimitadores de um conjunto.\n",
    "    pattern = re.compile(punctuation)\n",
    "    text_subbed = re.sub(pattern, ' ', text)\n",
    "    return text_subbed"
   ]
  },
  {
   "cell_type": "code",
   "execution_count": 3,
   "metadata": {},
   "outputs": [],
   "source": [
    "gosta_de_acai = cleanup((open(\"gosta.txt\", \"r\", encoding=\"utf8\").read()).lower())\n",
    "indiferente_acai = cleanup((open(\"indiferente.txt\", \"r\", encoding=\"utf8\").read()).lower())\n",
    "nao_gosta_de_acai = cleanup((open(\"nao_gosta.txt\", \"r\", encoding=\"utf8\").read()).lower())"
   ]
  },
  {
   "cell_type": "code",
   "execution_count": 71,
   "metadata": {},
   "outputs": [],
   "source": [
    "tabela_gosta = (pd.Series(gosta_de_acai.split())).value_counts()\n",
    "tabela_indiferente = (pd.Series(indiferente_acai.split())).value_counts()\n",
    "tabela_nao_gosta = (pd.Series(nao_gosta_de_acai.split())).value_counts()"
   ]
  },
  {
   "cell_type": "code",
   "execution_count": 45,
   "metadata": {},
   "outputs": [],
   "source": [
    "tabela_gosta_acai_relativa = (pd.Series(gosta_de_acai.split())).value_counts(True)\n",
    "tabela_indiferente_acai_relativa = (pd.Series(indiferente_acai.split())).value_counts(True)\n",
    "tabela_nao_gosta_acai_relativa = (pd.Series(nao_gosta_de_acai.split())).value_counts(True)\n",
    "\n",
    "tabela_gosta_acai_absoluta = (pd.Series(gosta_de_acai.split())).value_counts(False)\n",
    "tabela_indiferente_acai_absoluta = (pd.Series(indiferente_acai.split())).value_counts(False)\n",
    "tabela_nao_gosta_acai_absoluta = (pd.Series(nao_gosta_de_acai.split())).value_counts(False)"
   ]
  },
  {
   "cell_type": "code",
   "execution_count": 60,
   "metadata": {},
   "outputs": [],
   "source": [
    "gosta_ind = gosta_de_acai + indiferente_acai\n",
    "gosta_ind_relativa = (pd.Series(list(gosta_ind.split()))).value_counts(True)\n",
    "\n",
    "ngosta_ind = nao_gosta_de_acai + indiferente_acai\n",
    "ngosta_ind_relativa = (pd.Series(list(ngosta_ind.split()))).value_counts(True)\n",
    "\n",
    "tudo = pd.read_excel(\"base_acai.xlsx\")\n",
    "\n",
    "serie_tudo = pd.Series(tudo.Treinamento)\n",
    "tabela_tudo_absoluta = serie_tudo.value_counts()"
   ]
  },
  {
   "cell_type": "code",
   "execution_count": 61,
   "metadata": {},
   "outputs": [],
   "source": [
    "probabilidade_gosta = tabela_gosta.sum()/tabela_tudo_absoluta.sum()\n",
    "probabilidade_ngosta = tabela_nao_gosta.sum()/tabela_tudo_absoluta.sum()"
   ]
  },
  {
   "cell_type": "code",
   "execution_count": 72,
   "metadata": {},
   "outputs": [],
   "source": [
    "# frase_g = (teste_gosta*probabilidade_gosta)\n",
    "# frase_ng = (teste_ngosta*probabilidade_ngosta)\n",
    "\n",
    "# Classificador = {}\n",
    "# if frase_g > frase_ng:\n",
    "#     Classificador[frase] = 0\n",
    "# else:\n",
    "#     Classificador[frase] = 2\n",
    "\n",
    "# Classificador"
   ]
  },
  {
   "cell_type": "code",
   "execution_count": 94,
   "metadata": {},
   "outputs": [],
   "source": [
    "base_teste = pd.read_excel(\"base_acai.xlsx\",sheets=\"Teste\")\n",
    "series_tweets = pd.Series(list(base_teste.Treinamento))\n",
    "\n",
    "\n",
    "tweets_limpos = []\n",
    "for tweet in series_tweets:\n",
    "    tweets_limpos.append(cleanup(tweet.lower()))\n",
    "\n",
    "    \n",
    "classificacao = {}\n",
    "for frase in tweets_limpos:\n",
    "    palavras = list(frase.split())\n",
    "    for palavra in palavras:\n",
    "        gosta = 1\n",
    "        n_gosta = 1\n",
    "        if palavra in tabela_gosta_acai_relativa:\n",
    "            gosta *= tabela_gosta_acai_relativa[palavra]\n",
    "        if palavra in tabela_nao_gosta_acai_relativa:\n",
    "            n_gosta *= tabela_nao_gosta_acai_relativa[palavra]\n",
    "        else:\n",
    "            gosta*1\n",
    "            n_gosta*1\n",
    "    prob_gosta = probabilidade_gosta*gosta\n",
    "    prob_ngosta = probabilidade_ngosta*n_gosta\n",
    "    if prob_gosta > prob_ngosta:\n",
    "        classificacao[frase] = 0\n",
    "    else:\n",
    "        classificacao[frase] = 1\n",
    "        "
   ]
  },
  {
   "cell_type": "code",
   "execution_count": null,
   "metadata": {},
   "outputs": [],
   "source": []
  },
  {
   "cell_type": "code",
   "execution_count": null,
   "metadata": {},
   "outputs": [],
   "source": []
  },
  {
   "cell_type": "code",
   "execution_count": null,
   "metadata": {},
   "outputs": [],
   "source": []
  },
  {
   "cell_type": "code",
   "execution_count": null,
   "metadata": {},
   "outputs": [],
   "source": []
  },
  {
   "cell_type": "code",
   "execution_count": null,
   "metadata": {},
   "outputs": [],
   "source": []
  },
  {
   "cell_type": "code",
   "execution_count": null,
   "metadata": {},
   "outputs": [],
   "source": []
  },
  {
   "cell_type": "markdown",
   "metadata": {},
   "source": [
    "___\n",
    "### Verificando a performance\n",
    "\n",
    "Agora você deve testar o seu classificador com a base de Testes."
   ]
  },
  {
   "cell_type": "code",
   "execution_count": null,
   "metadata": {},
   "outputs": [],
   "source": []
  },
  {
   "cell_type": "code",
   "execution_count": null,
   "metadata": {},
   "outputs": [],
   "source": []
  },
  {
   "cell_type": "code",
   "execution_count": null,
   "metadata": {},
   "outputs": [],
   "source": []
  },
  {
   "cell_type": "markdown",
   "metadata": {},
   "source": [
    "___\n",
    "### Concluindo"
   ]
  },
  {
   "cell_type": "code",
   "execution_count": null,
   "metadata": {},
   "outputs": [],
   "source": []
  },
  {
   "cell_type": "code",
   "execution_count": null,
   "metadata": {},
   "outputs": [],
   "source": []
  },
  {
   "cell_type": "markdown",
   "metadata": {},
   "source": [
    "## Aperfeiçoamento:\n",
    "\n",
    "Os trabalhos vão evoluir em conceito dependendo da quantidade de itens avançados:\n",
    "\n",
    "* Limpar: \\n, :, \", ', (, ), etc SEM remover emojis\n",
    "* Corrigir separação de espaços entre palavras e emojis ou emojis e emojis\n",
    "* Propor outras limpezas e transformações que não afetem a qualidade da informação ou classificação\n",
    "* Criar categorias intermediárias de relevância baseadas na probabilidade: ex.: muito relevante, relevante, neutro, irrelevante, muito irrelevante (3 categorias: C, mais categorias conta para B)\n",
    "* Explicar por que não posso usar o próprio classificador para gerar mais amostras de treinamento\n",
    "* Propor diferentes cenários para Naïve Bayes fora do contexto do projeto\n",
    "* Sugerir e explicar melhorias reais com indicações concretas de como implementar (indicar como fazer e indicar material de pesquisa)\n",
    "* Montar um dashboard que periodicamente realiza análise de sentimento e visualiza estes dados"
   ]
  },
  {
   "cell_type": "markdown",
   "metadata": {},
   "source": [
    "# Referências"
   ]
  },
  {
   "cell_type": "markdown",
   "metadata": {},
   "source": [
    "[Naive Bayes and Text Classification](https://arxiv.org/pdf/1410.5329.pdf)  **Mais completo**\n",
    "\n",
    "[A practical explanation of a Naive Bayes Classifier](https://monkeylearn.com/blog/practical-explanation-naive-bayes-classifier/) **Mais simples**"
   ]
  },
  {
   "cell_type": "code",
   "execution_count": null,
   "metadata": {},
   "outputs": [],
   "source": []
  }
 ],
 "metadata": {
  "kernelspec": {
   "display_name": "Python 3",
   "language": "python",
   "name": "python3"
  },
  "language_info": {
   "codemirror_mode": {
    "name": "ipython",
    "version": 3
   },
   "file_extension": ".py",
   "mimetype": "text/x-python",
   "name": "python",
   "nbconvert_exporter": "python",
   "pygments_lexer": "ipython3",
   "version": "3.7.1"
  }
 },
 "nbformat": 4,
 "nbformat_minor": 4
}
