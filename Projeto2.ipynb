{
 "cells": [
  {
   "cell_type": "markdown",
   "metadata": {},
   "source": [
    "# Projeto 2 - Ciência dos Dados"
   ]
  },
  {
   "cell_type": "markdown",
   "metadata": {},
   "source": [
    "Nome: Ellen Beatriz Shen\n",
    "\n",
    "Nome: Gabriela Moreno Boriero"
   ]
  },
  {
   "cell_type": "markdown",
   "metadata": {},
   "source": [
    "___\n",
    "# Classificador automático de sentimento\n"
   ]
  },
  {
   "cell_type": "markdown",
   "metadata": {},
   "source": [
    "## Preparando o ambiente no jupyter:"
   ]
  },
  {
   "cell_type": "code",
   "execution_count": 1,
   "metadata": {
    "jupyter": {
     "outputs_hidden": true
    }
   },
   "outputs": [],
   "source": [
    "import math\n",
    "import os.path\n",
    "import pandas as pd\n",
    "import json\n",
    "from random import shuffle"
   ]
  },
  {
   "cell_type": "markdown",
   "metadata": {},
   "source": [
    "___\n",
    "### Montando o Classificador Naive-Bayes\n",
    "\n",
    "Considerando apenas as mensagens da planilha Treinamento, ensine  seu classificador."
   ]
  },
  {
   "cell_type": "code",
   "execution_count": 2,
   "metadata": {},
   "outputs": [],
   "source": [
    "import re \n",
    "\n",
    "def cleanup(text):\n",
    "    #Função de limpeza muito simples que troca alguns sinais básicos por espaços\n",
    "    import string\n",
    "    punctuation = '[!-.:?;]' # Note que os sinais [] são delimitadores de um conjunto.\n",
    "    pattern = re.compile(punctuation)\n",
    "    text_subbed = re.sub(pattern, ' ', text)\n",
    "    return text_subbed"
   ]
  },
  {
   "cell_type": "code",
   "execution_count": 3,
   "metadata": {},
   "outputs": [],
   "source": [
    "gosta_de_acai = cleanup((open(\"gosta.txt\", \"r\", encoding=\"utf8\").read()).lower())\n",
    "indiferente_acai = cleanup((open(\"indiferente.txt\", \"r\", encoding=\"utf8\").read()).lower())\n",
    "nao_gosta_de_acai = cleanup((open(\"nao_gosta.txt\", \"r\", encoding=\"utf8\").read()).lower())"
   ]
  },
  {
   "cell_type": "code",
   "execution_count": 71,
   "metadata": {},
   "outputs": [],
   "source": [
    "tabela_gosta = (pd.Series(gosta_de_acai.split())).value_counts()\n",
    "tabela_indiferente = (pd.Series(indiferente_acai.split())).value_counts()\n",
    "tabela_nao_gosta = (pd.Series(nao_gosta_de_acai.split())).value_counts()"
   ]
  },
  {
   "cell_type": "code",
   "execution_count": 45,
   "metadata": {},
   "outputs": [],
   "source": [
    "tabela_gosta_acai_relativa = (pd.Series(gosta_de_acai.split())).value_counts(True)\n",
    "tabela_indiferente_acai_relativa = (pd.Series(indiferente_acai.split())).value_counts(True)\n",
    "tabela_nao_gosta_acai_relativa = (pd.Series(nao_gosta_de_acai.split())).value_counts(True)\n",
    "\n",
    "tabela_gosta_acai_absoluta = (pd.Series(gosta_de_acai.split())).value_counts(False)\n",
    "tabela_indiferente_acai_absoluta = (pd.Series(indiferente_acai.split())).value_counts(False)\n",
    "tabela_nao_gosta_acai_absoluta = (pd.Series(nao_gosta_de_acai.split())).value_counts(False)"
   ]
  },
  {
   "cell_type": "code",
   "execution_count": 60,
   "metadata": {},
   "outputs": [],
   "source": [
    "gosta_ind = gosta_de_acai + indiferente_acai\n",
    "gosta_ind_relativa = (pd.Series(list(gosta_ind.split()))).value_counts(True)\n",
    "\n",
    "ngosta_ind = nao_gosta_de_acai + indiferente_acai\n",
    "ngosta_ind_relativa = (pd.Series(list(ngosta_ind.split()))).value_counts(True)\n",
    "\n",
    "tudo = pd.read_excel(\"base_acai.xlsx\")\n",
    "\n",
    "serie_tudo = pd.Series(tudo.Treinamento)\n",
    "tabela_tudo_absoluta = serie_tudo.value_counts()"
   ]
  },
  {
   "cell_type": "code",
   "execution_count": 61,
   "metadata": {},
   "outputs": [],
   "source": [
    "probabilidade_gosta = tabela_gosta.sum()/tabela_tudo_absoluta.sum()\n",
    "probabilidade_ngosta = tabela_nao_gosta.sum()/tabela_tudo_absoluta.sum()"
   ]
  },
  {
   "cell_type": "code",
   "execution_count": 72,
   "metadata": {},
   "outputs": [],
   "source": [
    "# frase_g = (teste_gosta*probabilidade_gosta)\n",
    "# frase_ng = (teste_ngosta*probabilidade_ngosta)\n",
    "\n",
    "# Classificador = {}\n",
    "# if frase_g > frase_ng:\n",
    "#     Classificador[frase] = 0\n",
    "# else:\n",
    "#     Classificador[frase] = 2\n",
    "\n",
    "# Classificador"
   ]
  },
  {
   "cell_type": "code",
   "execution_count": 93,
   "metadata": {},
   "outputs": [
    {
     "name": "stdout",
     "output_type": "stream",
     "text": [
      "{'  era só um açaí 🤤': 1, '  ontem minha sogra compro açaí pra nós 🥰😍': 1, '[05/09/2019 09 54] cauã  vai fazer oque esse final de semana   \\n [05/09/2019 09 55] cauã  nada né  se quiser a gente toma um açaí na praça pago p vc \\n [05/09/2019 09 55] eduarda leal  já disse que você é um ótimo amigo hoje gato ': 1, '[5/9 09 06] guilherme ❤  hj vc quer\\n[5/9 09 06] guilherme ❤  acai \\n[5/9 09 06] guilherme ❤  sanduíche\\n[5/9 09 06] guilherme ❤  ou cinema\\n\\neu amo  sério ': 0, '@_alves_crf vai pagar o açaí hj': 0, '@_bispob sim mana kkkkkkkkkkkk  depois acabou com meu açaí': 0, '@_vinicin_10 kkkkkkkkkkkkkk gostou né  só um açaí de 700ml agora🤤': 1, '@10maisogole açaí eu amo rs': 1, '@2cjoao açaí joão quero açaí': 0, '@ahprincipiokim quero um açaí também': 1, '@alemarinns oh dózinha  bora toma um açaí bb': 1, '@antibiotico_ ai nego  leite em pó é uó no açaí sai daqui\\npaçoca  leite condensado e morango é everything to me': 0, '@batdeh nao acontecera por que nos vamos se divertir e come açaí': 0, '@beatrizguzzi1 eca açaí': 0, '@beatrizpeople vamo tomar açaí hj': 0, '@beeatrizz77 vou mandar entregar um açaí pra você': 1, '@biaa_vaz açaí tem gosto de terra é a vida': 0, '@bibona9 pelo menos é gostoso  açaí who': 0, '@bibona9 terra é açaí': 0, '@crf_gy0 agr vc me deve um açaí kkkkkkkkkkk': 1, '@dgioportinai vam comer pizza  eu quero pizza pastel açaí sorvete e caipirinha': 1, '@doralsz vamo tomar acai amanhã': 1, '@dudu_lanc pb amp j  eu detesto  nunca comi uma boa  só aquelas que tem no açaí que deve ser só açúcar hahahaha': 1, '@edspengler aqui tem  galo gigante  rabo de boi  mad max  mulher açaí  peito de pombo kkkkk': 1, '@emicigg_ meu açaí inferno': 0, '@erica_davi2 os açaí de ontem   kkkk': 0, '@fehhtorres_ isso q eu ia falar oxi desde quando vc gosta de açaí': 0, '@feitozapatrick ata sai  tu me deve um açaí': 0, '@fetterfe prefiro açaí hein': 1, '@giovannanvaes vou manda seu açaí kk': 1, '@graydedwizard se aparecer com açaí  vc terá o meu amor todinho': 1, '@gxxxxsx paga ai  depois eu pago o açaí': 0, '@isabell3008 vamos ir tomar açaí 😃': 1, '@isam_filipe é hoje que eu ganho um açaí': 0, '@izaolliiver eu levo a sobremesa \\naçaí ou pavê  ': 0, '@joaocohenn me passou vontade de açaí  isso não se faz nem com um inimigo': 1, '@joaosandrini isso  eu li  mas meu relato é de vida real msm  de oficina de carro a açaí da esquina aqui em recife tá com safrapay  inclusive guiche de estacionamento de shopping  mt mt rápido a transição': 0, '@jonas_ferreiraa mas na hora de pagar meu açaí n tem dinheiro né': 1, '@jpfagundes2 depois que pagar meu açaí quem sabe kjskajakak': 1, '@juucastro8 vai ter seu açaí': 0, '@laness29 ta e quem abre açaí de manhã    ': 1, '@lauraamonari sim  açaí td dia 🥵🥵🥵': 0, '@lavinialp2 uma açai tambem   uma pizza   ou compra os bagulho faz la em cs': 0, '@let_m0 @oliveirapedrro pede 3 eu vou querer tmb mas pra mim pode pedir um copo de açaí pra ajuda a descer': 1, '@leticiadeazeve7 açaí cmg kkkkkkkkkkkkkkkkkkkkkkk\\nlindoslindos': 0, '@loira_019 @schuandaz @xavieerlaura não leva açaí mesmo não laura  pq a bonitinha aí é fresca e não vai tomar tudo': 1, '@lucascategorial açaí': 0, '@lusscat quero açaí todo dia': 0, '@maayronferreira cadê o açaí ': 0, '@manuhcristinav açaí tá pouco manu kkkkk': 1, '@martinabcruz @maraba_lucas @arraiskildary kkkkkkkkkkk eu só quero um açaí e um peixe na beira do rio aí em marabá quando eu for': 1, '@mauwricio meu deus jjkkkkk você usou o açaí maurício': 0, '@mel_azv kakakakkakakak vai pro açaí mel  vai pro açaí': 0, '@mila_poliara vai sim     vou chegar é cedo ❤️ tem que dar prejuízo de pelo menos 4 litros de açaí': 0, '@nasouzap97 tenho certeza que o quar théo tava melhor que o açaí 🤗': 0, '@nikolasdisa tá querendo pagar outro açaí  é ': 0, '@nysampaio2 @luscas açaí deve ter alguma coisa pq essa porra vicia demaaaais': 1, '@obielwt açaí=12 reias   pra ir no cinema com vc é no mínimo 30 conto👍🏻': 0, '@paulosilva1955 hj terá um ato em defesa da amazônia na praça do barão às 17 00  distribuiremos mudas de ipê amarel… https //t co/ojetoj5vy1': 0, '@paulosilva1955 hj terá um ato em defesa da amazônia na praça do barão às 17 00  distribuiremos mudas de ipê amarelo  jambeiro  andiroba  açaí  etc    organização do partido verde amapá ': 0, '@paulxbr_ menina ontem vc falou do pastel eu lembrei na hora do açaí  que bad vei  me arrepiei todinha na hora só de imaginar kkkkkkkk': 1, '@rafaelecplj @brasil247 e os laranja da família dele     e o nepotismo  e o queiroz  e a tia do açaí   eai  eai  ficha linoa é mentira amigão': 0, '@ryanalvesmtjb to vendo vc mandando seus amigos curtirem p ganhar um açaí ': 0, '@softbitxch pq vc mora longe  a gnt poderia tá saindo pra comer donuts e açaí': 0, '@soquemfalatop no começo tu n vai gostar vai sentir q eh comida p criança enfim vai ser trash igual q nem açai\\ndepois nem digo      ': 0, '@suflairy  açaí  com kiwi e morango      https //t co/hxvcazpq3n': 1, '@teetehveloso sorveteria do meu pai melhor açai de bh  tem até banana split enos\\nrua curitiba 459': 0, '@ttwvis kkkkkkkkkkkk eu comendo açaí me sentia a própria árvore': 0, ' 🍒reparador de pontas açaí oil🍒  \\ncomplexo de vitamina pro a e b 5 enriquecido com óleo de açaí e um poderoso complexo de vitamina pro ar e b5 com  protetor térmico e solar  que confere maciez e brilho previne o… https //t co/zqzaowwdn6': 0, '9  com certeza lasanha pizza estrogonofe burguer sushi açaí': 0, 'a natural one acaba de fazer uma revolução alimentar com esse lançamento   eu enquanto representante da capital mun… https //t co/my0at84t0w': 0, 'a porra do açaí n me convenceu': 0, 'a vontade de um açaí tá enorme': 1, 'acabei de amassa um açaí': 0, 'acabei de amassar um açaí de 500ml da vilela 🤭😋': 1, 'acabei de recusar um convite pra ir tomar açaí  devo não estar bem': 1, 'acabei de tomar um açaí e ainda vou comer uma coxinha 😧🤦': 1, 'açaí bom é açaí sem nada https //t co/le2endnsrv': 1, 'açaí com banana e bis é a melhor coisa que comi até hoje': 1, 'açaí é a desculpa do brasileiro pra comer leite ninho nutella ovomaltine farinha láctea amendoim e fruta de uma vez só': 0, 'açaí é melhor do que sorvete e só minha opinião importa https //t co/jv00fmwvtd': 1, 'açaí eh o gelo ta mt certo  graças a deus': 1, 'açaí nesse calor melhor coisa que temos ❤️❤️❤️❤️': 1, 'acho que vou lá fora mais tarde toma um açai': 1, 'acordei sentindo falta das minhas terças e quintas de inglês com meus amigos e tomando açaí com a duda 🤧🥺🙁': 1, 'ai açaí tem gosto de terra\\n\\neu  https //t co/vtoggguqdv': 0, 'ai que difícil engolir macho açaí isso é tudo por vc ': 1, 'ainda ganhei uma taça de açaí de aniversário 💖': 1, 'além de sorvetes  aqui na sorveteria picogel você encontra uma deliciosa variedade de açaí  🍨🍨😋😋😋\\n vemprapicogel \\n sorvete  picolé  sundae  milkshake  paletamexicana  cupuaçu  açaínatigela  potesparaviagem e muito… https //t co/dnpxhwq8wq': 0, 'alguém me paga um açaí https //t co/ioetqcumzl': 1, 'alguém paga um açaí pra mim': 1, 'alguém poderia por obséquio me trazer um açaí aqui em casa': 1, 'alguém podia me chamar pra rachar um açai  faz tempo que to na vontade  😗': 1, 'alguém podia me dar um açaí 🥺💔': 1, 'alguém vem aq dobrar minhas roupas pago um açaí': 0, 'alguém vem na minha casa pintar minha unha por favor  eu pago com açaí': 0, 'allan tá me cobrando o açaí dele a quase duas semanas kkkkkkk': 1, 'almocei com a tata  tomei açaí com as amigas que eu gosto 💙': 1, 'amanhã vou lá no trabalho da thais tomar um açaí 😆😆': 1, 'angelina jolie pq não me adotasse': 0, 'apaixonado pela atendente do açaí concept pai amado': 0, 'ata  \\nsei nem o que é isso    auto estima  toma com açaí isso  https //t co/ki29ylrzpb': 0, 'bah só um açai com esse calor': 1, 'boa tarde p qm ganhou um açai do prof de ed fisica pos ter ido tao mal na prova q ele ficou comovido e melhorou meu diazinho um cadin': 1, 'bom dia com uma big vontade de tomar açaí': 0, 'bom dia pra vc que acordou com a novidade do momento no carro do ovo  agora até açaí com banana eles vendem': 0, 'ca estou eu no shopping tomando meu açai': 1, 'caguei minha blusa toda de açaí  culpa do marcos': 1, 'calculando quantas horas de hit eu preciso fazer pra gastar o xbacon e o açaí de ontem https //t co/bza8oqjxvd': 0, 'calor desses  era só o açaí c sorvete ou cracudinha de brahma': 1, 'caralho eu não tenho nem amigo pra chamar pra tomar um açaí comigo  q fase kkkkkk': 1, 'carona confirmada pra bm  biscoito frito ja ta no ponto  o pernil ja ta de molho e o dinheiro do açaí ja ta separad… https //t co/luh4n9rw7q': 0, 'chegar em divi  primeira coisa que vou fazer é pedir um açaí ksks': 1, 'comendo açaí na minha cia 😎': 1, 'comer um tiquin de açaí n vai piorar minha situ ne': 1, 'comi 3 salgados e um açaí de 6 reais': 1, 'comi açaí hoje  pensa em uma pessoa feliz': 1, 'comi açaí ontem e agora tô loca de dor na garganta': 1, 'como eu queria poder comer um açaí 😕': 1, 'comprar um açaí de 1 litro': 1, 'comprei 6 pães de queijo e uma vitamina de açaí e nisso já foi 10 conto': 1, 'de açaí e catuaba': 0, 'depois de 30 anos insistindo  a amanda vai me pagar um açaí': 0, 'depois de um açaí e um caldo de cana o dia fica ainda melhor': 1, 'dichavando açai com muito leite ninho e muitoooo leite moça 🤤🤤🤤': 1, 'doida pra tomar um açaí mas nao posso tomar pq to mega gripada 🤧😕': 1, 'e a companhia pro acai hj ': 0, 'é errado querer um açaí agora ': 1, 'e eu to fazendo o que  andando no shopping com os macho do trabalho atrás de açaí': 0, 'e meu prof q qr q eu leve comida típica pra aula  e eu vou comprar um pote de açaí e vida q segue': 0, 'e na minha escola que tá vendendo açaí krkdkfkkf': 0, 'e pra finalizar ontem fui ver o pp e a ray   tomamos açaí e depois fui pro pagode tomar umas de leve kkkkk': 1, 'e só um desses com um bom açaí https //t co/xlz4hbguz9': 0, 'el açaí  la superfruta que es un milagro nutricional | salud  brasil https //t co/oc3rokbjcp': 0, 'endon está trocando um copo de açaí pra comer legumes  não aceito ': 1, 'era só alguém me chamando para tomar açai hj': 0, 'era só meu amor salvando as açaí amanhã msm  \\nsó sei que não foi indireta  apenas joguei uma no ar  vai que né': 1, 'era só um açaí 😋': 1, 'era só um açaí da praça  🤤': 1, 'era só um açaí na minha vida 😣😩': 0, 'era só um açaí nesse calor mesmo https //t co/lrpb51remv': 1, 'era só um açaí pra me deixa feliz': 1, 'era só uns 10 sacolé de açaí do jura': 1, 'esperando o moço do açaí abrir  mas tá difícil': 1, 'essa  vitamina  de açaí é o melhor café que alguém pode tomar': 0, 'esse clima ta pedindo uma barca de açaí 🤤': 1, 'esse dia de hoje tá implorando por um açaí  mas a preguiça de sair de casa tá grandona': 1, 'esse dia tá implorando por um açaí 😩': 1, 'esse suco de açai ta salvando meu dia ta': 1, 'estou só pelo lanche e pelo açaí': 0, 'estou trabalhando só pensando no açaí maravilhoso que deixei em casa': 1, 'estou triste alguém me paga um açaí  😥': 1, 'eu acordei p tomar o resto do meu açaí e tô quase tomando o do raffael  deus me livre e guardi': 1, 'eu amo tomar sorvete/açaí em tempo frio chuvoso me julgue': 1, 'eu comi mt  comi pizza e açaí na rua  qnd cheguei em casa bati um prato d strogonoff q isso to pesada kkkkk': 1, 'eu e lívia estaremos hoje no hall do prédio 20 vendendo  solzin tá pedindo açaí do th 👉💓😍🙏 https //t co/vmzwprze0v': 0, 'eu e quem pra comer açaí hoje': 1, 'eu ia levar igor pra tomar açaí  mas ele me estressou  vou sozinha😡😡': 1, 'eu não vou  na quem for é puder da essa moral eu pago um açaí kkkk https //t co/ihdlh2ss1c': 0, 'eu queria tanto um açaí com leite em pó  chocolate e morango': 1, 'eu quero açaí  mas se eu pedir pro meu pai  ele me mata': 1, 'eu só fiquei doente porque há muito tempo que não tomo açaí essa é a verdade': 1, 'eu só quero um açaí cheio de leite condensado e leite em pó': 1, 'eu thay e jenny na fome do açaí kkkkkkkk já foi dois': 1, 'eu tô necessitada de açaí': 0, 'falei que tava afim de toma um açaí ontem daphne me manda foto de açaí e eu tô na vontade até agora 🥺🥺': 1, 'fico só adiando meu açaí  nem eu aguento mais': 1, 'fiquei enjoada  não quero ver açaí na minha frente por tão cedo': 1, 'fui lá em cima na emilli comprar açaí  já comi e quero outro  ou vou lá em baixo comer salgado ': 1, 'fui tomar açaí 🥰💖💞💓💗': 1, 'gabriel me chamou pra tomar açaí  parece que leu meus pensamentos': 1, 'ganhei açaí do ricardo  melhor dia da semana': 1, 'ganhei um copo de açai e um de salgadinho em um sorteio kkk': 1, 'guerrero fez um gol pra cada açaí que vou ganhar 🇵🇪': 0, 'hj o dia tá igual açaí e eu odeio açaí': 0, 'hj vou comer açaí com meu amigo vagner': 1, 'hmm queria um açaí': 0, 'hoje é dia de pedir açaí rs❤️': 1, 'hoje é promo de açai feladaputa dia de empurra fila pra ve se vai mais rapido': 1, 'hoje o dia está lindo para tomar um açaí': 0, 'hoje o dia tá pedindo um açaí pprt': 1, 'hoje pra ficar bom só um açaí': 0, 'hoje tá a cara do açaí 😋': 1, 'hoje vou lá tomar meu açaí  nem que seja sozinha mas vou né 🥰❤': 1, 'ia comer açaí enquanto vejo oitnb mas a netflix resolveu nao funcionar': 1, 'ia dá um açaí p natacha  mas ela é muito grossa  mínimo que vou dá e um pau bem grosso no cu dessa otaria 🤬🤬🤬🤬🤬': 0, 'jantar   cinema   açaí no final \\nserá que estou prestes a ter um date perfeito ': 1, 'júlia querendo ir p lá niterói só p tomar açaí kkkkkkkk': 1, 'louquinha num açaí e o trem fechado': 1, 'love vai pagar o açaí   😋': 1, 'mãe comprou um potão de açaí pra mim': 1, 'mamãe recapitulando o que eu comi ontem que me fez passar mal e com certeza foi o hambúrguer  pq comer açaí desenfreadamente ta ok': 0, 'mano  queria açaí': 0, 'marcos paulo vai tomar outro açaí  és': 1, 'matei a minha vontade de tomar açaí': 0, 'matei minha vontade de comer açaí hoje 🥰': 1, 'mds tomei um açaí com creme de banana meu deus do céu o que é aquilo maravilhoso demais pqp https //t co/woqptcdun6': 1, 'meninxxxxxs  na açaiteria da pedro de toledo dá desconto pra estudante  vão e paguem açaí pra mimm  plis ': 1, 'meu deus hoje eu consegui comer uma tapioca e um açaí sem ninguém vir pedir obg deus 😭😭🙌🏻🙌🏻': 1, 'meu pai comprou um pote de 5 litros de açaí e todos os docinhos que acompanham 😍': 1, 'meu patrão do açaí já disse q vou ganhar um açaí de 500ml mds meu esse ano já deu pra mim de açaí n aguento não 😂🙈': 0, 'minha garganta ta doendo  preciso de um açaí': 0, 'minha vontade de tomar açaí não passa 🥺': 1, 'mó fome  acabei de tomar açaí mds véi oq acontece comigo': 1, 'mó tempão que não como açaí do m7  fui lá e comprei um 770ml😋': 1, 'mo vontade de comer um açaí 🙄': 1, 'muita sede de açaí': 0, 'muita vontade de um açaí': 0, 'mulher colocou um saco de jujuba no meu açaí': 0, 'nada melhor do que um açaí nesse calor': 1, 'não sei o que seria de mim sem  açai': 1, 'nem 7hrs e eu to comprando refri  bombom  açaí  bala     tudo pra manter o corpo': 0, 'nessa foto de perfil foi uma das mil vezes q eu confundi na hora de pedir o sorvete e inves de pedir paraense pedi mestiço pensando q era açaí c a farinh de tapioca': 1, 'ninguém me aviso que a minha boca tava suja de açaí': 0, 'no dia da amazônia  andré trigueiro cita muitos itens que consumimos no dia a dia e que vieram da floresta amazônica  carne bovina  açaí  guaraná  cacau  óleos essenciais  diesel    \\n cbnrio  cbnmaiscarioca\\n\\nhttps //t co/uuzjuemdej': 0, 'no momento eu só queria um copão de açaí': 0, 'no ontem eu comi bk  frango no balde  açaí e comida japonesa malouuuuuu d ': 1, 'o açaí do terceiro ano é muito carooo  só queria comprar um agr': 1, 'o açaí eu já tenho  agora só falta um namorado https //t co/hneor8sb5o': 0, 'o amor da sua vida pode te enrrolar por uma semana pra tomar um açaí https //t co/zrzs6tvebx': 0, 'o cara ficou assustado pq comprei açaí às 7 da manhã kkkkkkk': 1, 'o dia de hoje pediu aquele açaí  e que bom que não fiquei só na vontade': 0, 'o pior que era assim quando a gente saia do treino e ia tomar açaí   eram uns 5 litros e geral feliz kkkkkkkm https //t co/if1occ83uv': 0, 'odeio acai  ': 0, 'ontem comi dois lanche e um açaí  to cheia ainda': 1, 'ontem comi um açaí perfeito 😍': 1, 'ontem desci tardao p comprar um açaí com calda de morango e sucrilhos taoo gostoso  pq eu nao sou obrigada a passar vontade 😋': 1, 'ontem fui abusada e comprei um sanduíche topzera e um açaí de meio litro por 20 reais com taxa de entrega mas agora tenho 20 reais pra sobreviver até sábado à noite': 0, 'ontem o thiago me salvou o dinheiro da passagem e o will me pagou um açai veeeei  num mereço uns cara desses': 1, 'oq eu não daria por um açaí agora': 1, 'ou um açaí  \\n\\nchama dm https //t co/cvewydrkxl': 0, 'pago um açai bolado kkkkk https //t co/s7rpl46lzg': 0, 'pago um açaí pra quem agitar meu gatinho  https //t co/tpr0bmcixa': 0, 'paguei 15 reais no açaí  e n me arrependo mt  bom  ': 1, 'parece que a jujuba fica mas gostosa no açaí 🧐': 0, 'pedi açaí sem pedir pra minha irma    kkkkkkkela acabou de chegar em casa      ': 1, 'pega um açai hj né 😋': 1, 'pegar um açaí  tacar a cadeira no portão c os di raça': 0, 'pensando numa barca de açaí top https //t co/3cktalxhr3': 1, 'pensando seriamente em almoçar açaí': 0, 'plmds eu preciso tomar açaí': 0, 'pois muito que bem não tem açaí': 0, 'posso te convidar para tomar um açaí  — qual a parte do  eu tenho namorado    você não entendeu  eu em  te manca doido  https //t co/gstd2gr9bh': 0, 'poxa eu so queria um açaí': 0, 'poxa ninguém chama p comer açaí  ': 0, 'pq eu amo meu namorado  com ele não tem hora pra tomar açaí\\n17 30 e a gente na feira atrás de charque pra dalhe num açaí com farinhaa 😍': 1, 'pqp era só uma açaí 😑': 0, 'precisando de açaí': 0, 'preferi açaí https //t co/meqjexa7k2': 1, 'procurando açaí temos o melhor     somos representantes da açaí diamante negro whatsapp 19 988126585 venha provar uma amostra    ': 0, 'puts era só uma açaí mas ninguém dessa casa quer me dar  povo tóxico': 1, 'puts  vai me levar pra tomar açaí': 0, 'qria um açaí': 0, 'quando eu for lá vou levar ela p tomar açaí': 0, 'quando tiver em boapaba me chama pra tomar açaí  mas vc paga🤣💕 — kkkkkkkkk beleza https //t co/lmeoulnu13': 0, 'que bosta esse arrombado não vem logo só quero meu açaí': 0, 'que surpresaa    hahahaha tirei figurinha da garota debochada   https //t co/zit5qyvgho': 1, 'que vontade de açaí': 0, 'que vontade de tomar açaí': 0, 'que vontade de tomar açaí que eu tô aff': 1, 'que vontade de um açaí 🤤🤤😢': 1, 'quem fecha tomar 60 litros de açaí   preciso': 1, 'queria alguém p tomar açaí cmg': 1, 'queria alguém pra tomar açaí comigo': 1, 'queria alguém pra tomar um açaí comigo hoje  povo tá muito falso comigo': 1, 'queria jantar açaí com carne assada de panela  mas tô longe pra caralho de casa   ': 1, 'queria muito comer um açaí': 0, 'queria muito um açaí': 0, 'queria tanto comer um açaí  ': 0, 'queria tanto comprar um açaí  porém nn tem como sair da loja 🤦🏼\\u200d♀️': 1, 'queria tanto tomar um açaí': 0, 'queria um açaí mas acho mt contraditório comer depois de caminhar 😐': 1, 'queria um açaí  com muito leite em pó  morango e leite condensado': 1, 'queria um açaí  mas tô com preguiça de sair pra comprar': 1, 'quero açaí': 0, 'quero açaí  😩': 1, 'quinta é dia de tbt  \\ntoda quinta vc será levado direto ao túnel do tempo com o delicioso sabor da pura fruta  com 2 sabores disponíveis a pronta entrega  os sacolés são uma ótima pedida pra quem quer se refrescar \\n\\nsabor de hoje  \\naçaí  r 2 50 \\nmorango cremoso  r 2 \\n\\nvem de zap  https //t co/fq9tf6zbgq': 0, 'roger falou em açaí e agora to com vontade 😭': 1, 'rt @_alicemj  quero um açaí 😔': 1, 'rt @_euviviann  quero comer açaí 🤤🥵': 1, 'rt @_laurann  queria tomar um açaí porém estou sem grana então vou continuar tomando no cu pois é de graça': 0, 'rt @_leticiaizidro  @maayronferreira cadê o açaí ': 0, 'rt @6natalypalacios  só queria um potão de açaí agora': 1, 'rt @agatacarolina12  minha vontade de tomar açaí não passa 🥺': 1, 'rt @almeidaue  sdds de come um açaí  💔': 1, 'rt @analuis23878582  que vontade de açaí': 0, 'rt @barbarasmclaro  apetece me tanto um açaí': 0, 'rt @beyondthewings_  eu  preciso emagrecer  só vou comer coisa saudável\\n\\naçaí  pizza  burguer king  sorvete  chocolate  milkshake  salgadin…': 0, 'rt @brunasi02813659   açaí tem gosto de terra \\n\\ntu engole leite que não é leite e quer falar do meu açaí ': 0, 'rt @c_morenna  queria só um açaí 🥵': 1, 'rt @camila_corlaite  queria só um açai agora de verdade': 1, 'rt @carolzinhaa472  um pote de açaí  tudo q eu queria agora😩': 1, 'rt @cinthiadur1  como lo que les puede gustar el açai 😓😅': 0, 'rt @coee_gb  açaí tem   só falto o dinheiro kk https //t co/mr7udfb8mu': 0, 'rt @crfgaab  @crfniiel hoje eu tomo açaí    😊': 1, 'rt @cristineaeisha  sdd de tomar um açaí  af': 1, 'rt @crvg_biel3  aí rapaziada  estou entregando açaí  não perca tempo e já peça o seu 📞🍨🛵\\nquem puder da um rt pra fortalecer ❤ https //t co/…': 0, 'rt @danielteles08  tava só querendo um açaí de 700 nesse momento': 1, 'rt @deb_fofinha  hoje tem promoção de açaí  socorrooo': 1, 'rt @diannabjs  só um açaí de 700ml p mim ficar feliz': 1, 'rt @eduardasantare1  vontade de açaí': 0, 'rt @eitaa_brenda  açaí é melhor do que muita gente por aí   https //t co/tjvklcodyi': 1, 'rt @emellyngomes7  era só um açaí': 0, 'rt @euubrunaa  ai q vontade de tomar um açaí bem recheado': 1, 'rt @feh_ortega_  plenas 23 23 e meu cérebro pensa hmmmmm agr seria uma ótima hr pra encher o cu de açaí né': 1, 'rt @freitas_marco_  tô só por um açaí': 0, 'rt @gabrielly_pee  vontade de tomar açaí 😡🥺': 1, 'rt @gabrwisni  que vontade que eu tô de tomar um açaí': 0, 'rt @goncalvesedd  gente toda hora me da vontade de comer açaí aaaaaa': 1, 'rt @htasoueu  to com vontade de açaí': 0, 'rt @hubrju_  namoral q vontade de tomar um açaí': 0, 'rt @inspirealegria  era só um açaí nesse calor mesmo https //t co/lrpb51remv': 1, 'rt @isabelleadradee  era só um copão de açaí agr': 1, 'rt @isxbella06  sai no almoço pra tomar açaí e voltei comum furo novo na orelha que rolê aleatório\\n\\nvaleu motocas': 0, 'rt @jcbandeira2  preciso tomar um açaí': 0, 'rt @jovirone1  não confio em quem não gosta de açaí \\n😊': 1, 'rt @kalebe_cruz  ou aproveita esse calor e compra um açaí cmg em galera aaaaaa  amanhã a partir das 12 e 30 na porta do bandejão  xiabrotap…': 0, 'rt @karolainelemos  que vontade de açaí 🥵': 1, 'rt @kaylanemartinss  e a vontade de tomar açaí que não passa aff': 1, 'rt @kesia_fran  mano como assim isso eh impossível de acertar  eu pago um açaí pra quem conseguir https //t co/zbknbdogoi': 0, 'rt @ketlynnn9  só uma tijela de açaí': 0, 'rt @kropfcrazy  coe quer dxar seus amigos felizes vai pra cima d um prédio  pega um ngc legal pra fumar e compra um açaí de um litro pra el…': 0, 'rt @kyssf22  era só alguém salvando o açaí em': 1, 'rt @lacerda  gente nao me leva a serio me leva pra tomar um açaí na pracinha com cobertura de morango eh serio': 1, 'rt @lbsmarina  @jonas_ferreiraa mas na hora de pagar meu açaí n tem dinheiro né': 1, 'rt @letssfigueiredo  muita vontade de um açaí': 0, 'rt @leve_para  chegamos à belém a todo vapor para te apresentar o melhor deste estado rico em cultura  culinária  turismo e muito  mas muit…': 0, 'rt @lipe_rebeque  era só um açaí': 0, 'rt @llauane015  tô só a vontade de um açaí': 0, 'rt @lrsmoura  @tremm_mts já paga o meu açaí amanhã': 1, 'rt @luhelena_29  era só alguém me chamando pra tomar açaí  quando eu for pra sp': 1, 'rt @luscas  23 horas e eis que bate o famigerado \\n\\ndesejo de açaí': 0, 'rt @maarcosreiis_  se eu chegar a ir nessa 3  vou ficar só comendo açaí': 0, 'rt @mcfaat  bom dia  boa tarde boa noite familia  a partir de hoje estaremos de volta com o melhor lanche da região  horario de atendimento…': 0, 'rt @meloo_milena  queria muito um açaí': 0, 'rt @noahpoesie  responda com as tags \\n\\nnetflix ou youtube \\nnoite ou dia \\ntoddy ou nescau \\nbiscoito ou bolacha \\nsorvete ou açai \\npepsi ou co…': 0, 'rt @opps_dannn  só um copão de açaí mesmo    😋': 1, 'rt @oqseriabomagora  um copo de açai': 1, 'rt @orrapaulo23  guidinha minha fia tem r 2 00 pra emprestar a vó pra comprar açaí pra irmã  mpn  melim  ouvidizer': 0, 'rt @pamwlas  sei la só queria estar magra mas tb queria tanto um açaí e um lanchão agr': 1, 'rt @pedrogomes2017  queria um açaí nesse calor': 1, 'rt @peroonee_  poxa eu so queria um açaí': 0, 'rt @ptokct  nós tivemos \\n\\nval do açaí\\nflávio bolsonaro\\nqueiroz\\neduardo chanceler\\nthe intercept\\namazônia\\nbrigitte macron\\n\\ntô esperando o pró…': 0, 'rt @rafa_castan_  verão \\nficar de biquíni o dia todo\\nmarquinha \\naçaí  churros e sorvete toda hora\\namigos que vc só vê lá\\nmadrugadas sensaci…': 0, 'rt @rayaanemoreira  vontade de tomar um copão de açaí': 0, 'rt @rayanecamargos3  e quando eu estiver triste  simplesmente me pague um açaí': 0, 'rt @rayssacrf1  queria um açaí': 0, 'rt @richard4_20  fui na casa de @jessica00847329  chama ela pra comer hambúrguer e tomar um  açaí  ne  a piranha estava dormindo kkkkk aff': 1, 'rt @sacoloiro  @jovirone1 quem n gosta de açai é pq n tomou mais q 2 vezes': 0, 'rt @santosmarii_  queria um copão de açaí': 0, 'rt @sgmrss  eu depois de comer charque  ovo e açaí https //t co/5oun7tpauq': 0, 'rt @sophiacunh  preciso de açaí': 0, 'rt @srbrenn0  só um açaí com bastante leite ninho': 1, 'rt @tainarasoouzah  queria um açaí😥': 1, 'rt @thamymv  coloco muito leite em pó no açaí mrm  fodase melhor coisa https //t co/xvioabf3iu': 1, 'rt @tryh200  hoje é promo de açai feladaputa dia de empurra fila pra ve se vai mais rapido': 1, 'rt @vandervaz2  que vontade de tomar um açaí': 0, 'rt @vanessa9939  vontade de tomar açaí e comer bolo de pote  mas não tenho dinheiro aff': 1, 'rt @venturagabr  acho que vou ali comprar um açaí': 0, 'rt @vinici5uss  so queria um açai': 1, 'rt @virginiothayssa  era só um açaí  pprt 🥵': 1, 'rt @vivianbenzinho  puts era só uma açaí mas ninguém dessa casa quer me dar  povo tóxico': 1, 'rt @vogalljr  @crf_gy0 agr vc me deve um açaí kkkkkkkkkkk': 1, 'rt @wendynascimentx  era só um açaí  🤤😭': 1, 'rt @yasminfr27  vontade de mec e açaí do ravi s': 1, 'rt @yeriheat  joy gosta de música brasileira e falou no knowing bros que uma das comidas favoritas dela é açaí  red velvet só não veio pro…': 0, 'rt @yurisantoss6  vou marcar de ir dar um rolê cm os cria e tomar um açaí no chatinhos': 1, 'sábado eu e meu amor vamos fazer uma torta 😍 e pro final da noite aquele açaí 😊': 1, 'saudades do açaí que eu comi ontemmmmm': 1, 'se esse tweet tiver um like  o @joaocohenn me deve uma barca de açaí': 0, 'semana que vem açaí sem falta': 1, 'só esse açaí msm🙃': 1, 'só esse açaí pra salvar 🤤': 1, 'só queria aquele açaí maravilhoso do borel  mo sdds': 1, 'só queria tomar um açaí com o boy que eu gosto pena que nem sei pra quem eu to falando': 1, 'so queria um açaí': 0, 'só queria um açaí 💔': 1, 'só queria um açaí 😟😣': 1, 'só queria um açaí com bastante leite em pó 🤤': 1, 'só queria um açaí com mousse de maracujá': 1, 'só queria um japa ou um açaí': 0, 'só queria um potão de açaí agora': 1, 'só tem gente falando de comida na minha tl  agora quero comer pastel e açaí enquanto tomo um caldo de cana': 1, 'só um açaí 🤤': 1, 'só um açaí agr': 1, 'so um açaí batido c graviola ': 1, 'só um açaí frut pprt': 1, 'só um açaí ou um milkshake de morango': 1, 'só uma casquinha de açaí lá de baixo🤤': 1, 'sorvete de uxi \\nbolinho de banana com carne seca e bacon \\nbolo de tapioca \\ngeladinho de tucumã \\npeixe frito com açaí\\n\\neu queria ser rica pra comer tudo o que belém tá me oferecendo': 0, 'sou apaixonada com açaí  vontade de tomar todo dia 😍': 1, 'sou mt sortuda  acabei de ganhar um açaí mano': 1, 'subi na minha sogra rapidinho p tomar um açaí e fiquei c preguiça de descer pra casa  socorro kkk': 1, 'tá de sacanagem um açaí de 700 lá no uai agora tá quase 20 conto  ': 1, 'tanto tempo sem comer açaí que tô com uma vontade  mas vou continuar pq dinheiro tô sem': 1, 'tati pagou um açaí com sorvete para mim': 1, 'tem duas lojas de açaí aqui em contagem que está copiando tipo  na cara dura o que eu e minha fazemos na cake flower  isso tá me deixando sem paciência dms': 0, 'tem meio litro de açaí na geladeira mas eu tenho que estudar   aff': 1, 'tengo ganas de una sobredosis de açai 🤤🤤': 0, 'tirei figurinha da garota debochada   https //t co/wnyjfs62ah': 0, 'tirei figurinha da gretchen perdida   https //t co/30dt182sbb': 0, 'tô com uma vontade tomar açaí mas o deil fica muito longe': 1, 'tô comendo açaí': 0, 'to esperando minha bb p ir treinar e to só por um açaí depois 🤤': 1, 'to indo tomar um açaí com a chuchubs 💕': 1, 'tô me segurando pra não comprar um açaí hoje kkkkkk': 1, 'tô morrendo de vontade de tomar um açaí': 0, 'tomando açaí enquanto choro de saudades da sofia  nem é meme': 1, 'tomando o açaí da gorete plena segunda feira q dia perfeito': 1, 'tomar um açaí': 0, 'tomar um açaí agora': 1, 'tomei um açaí ontem e matei minha vontade 🤤': 1, 'traz um açaí p mim vrnckjkkkkkkkkkkkkkkkkkkkkkkk https //t co/jmxuony2qi': 1, 'triste ir pro centro  e não ter ninguém pra me pagar um açaí  af': 1, 'trouxe um açaí pra vitória porque sou uma amiga muiti boa kk': 1, 'tudo que arma nesse calor é uma barca de açaí': 0, 'um açaí agora cairia bem ': 1, 'um açaí agora seria ouro': 1, 'um açaí de um litro agora cairia muito bem😋😋😋': 1, 'uns meses atrás foi um açaí  aí semana passada ganhei um bolo e agora um açaí denovo  amém sorteios ♥️': 0, 'vai me pagar o açaí agr  — interesseiro https //t co/sbk9l1vny5': 1, 'vamo ignorar que eu tomei açaí com nutella e vamo focar no meu projeto fitness que começa hoje': 1, 'vamos tomar um açaí ou lancha   \\n sábado   — dependendo de quem for kkkk https //t co/9wivqcmj9g': 0, 'vamos tomar um açaí  — não jhow https //t co/stnkvrkjye': 0, 'vim no shopping só pra compra shampoo comprei mais mil coisas e ainda tô tomando açaí hmkkk': 0, 'vivendo na força do ódio hj pelo menos amanhã vou tomar açaí': 0, 'voltei com a coca  açaí e salgados 😂😂 https //t co/4tabeburei': 0, 'vontade de comer um açaí com sorvete': 1, 'vontade de estar em porto seguro tomando açaí e comendo tapioca': 1, 'vontade de fazer um date eu cmg msm num cineminha e dps um açaí mas nem dinheiro pra isso eu tenho': 1, 'vontade de ir lá no grotão só p comprar um açaí': 0, 'vontade de tomar açaí': 0, 'vontade de tomar um açaí pprt': 1, 'vontade de tomar um copão de açaí': 0, 'vontade enorme de comer açaí': 0, 'vou ali f1 e depois ir comer um açaí tudo que tô precisando agora': 1, 'vou ali na tia comprar um açaí': 0, 'vou chegar em casa indo na rua buscar um açaí pra matar a louca vontade': 0, 'vou comer um xtudo e um açaí da tia mas tarde': 1, 'vou ganhar açaí de graça hoje https //t co/whdle22kox': 0, 'vou ir ali busca um açaí': 0, 'vou ir comer açaí la na dinda agora😍': 1, 'vou ir lá em cima comprar açaí': 0, 'vou lá em baixo comprar açaí ': 0, 'vou no açaí jaja toma uma barca 😋': 1, 'vou pedir açai': 1, 'vou piar ali p tomar um açaí  to agoniado dentro d casa já rs': 1, 'vou sortear alguém pra me pagar um açaí': 0, 'vou ter que tomar esse açaí do seu zé': 0, 'vou tomar um açaí quando chegar em casa 🤦\\u200d♀️🤦\\u200d♀️': 1}\n"
     ]
    }
   ],
   "source": [
    "base_teste = pd.read_excel(\"base_acai.xlsx\",sheets=\"Teste\")\n",
    "series_tweets = pd.Series(list(base_teste.Treinamento))\n",
    "\n",
    "\n",
    "tweets_limpos = []\n",
    "for tweet in series_tweets:\n",
    "    tweets_limpos.append(cleanup(tweet.lower()))\n",
    "\n",
    "    \n",
    "classificacao = {}\n",
    "for frase in tweets_limpos:\n",
    "    palavras = list(frase.split())\n",
    "    for palavra in palavras:\n",
    "        gosta = 1\n",
    "        n_gosta = 1\n",
    "        if palavra in tabela_gosta_acai_relativa:\n",
    "            gosta *= tabela_gosta_acai_relativa[palavra]\n",
    "        if palavra in tabela_nao_gosta_acai_relativa:\n",
    "            n_gosta *= tabela_nao_gosta_acai_relativa[palavra]\n",
    "        else:\n",
    "            gosta*1\n",
    "            n_gosta*1\n",
    "    prob_gosta = probabilidade_gosta*gosta\n",
    "    prob_ngosta = probabilidade_ngosta*n_gosta\n",
    "    if prob_gosta > prob_ngosta:\n",
    "        classificacao[frase] = 0\n",
    "    else:\n",
    "        classificacao[frase] = 1\n",
    "        \n",
    "print(classificacao)"
   ]
  },
  {
   "cell_type": "code",
   "execution_count": null,
   "metadata": {},
   "outputs": [],
   "source": []
  },
  {
   "cell_type": "code",
   "execution_count": null,
   "metadata": {},
   "outputs": [],
   "source": []
  },
  {
   "cell_type": "code",
   "execution_count": null,
   "metadata": {},
   "outputs": [],
   "source": []
  },
  {
   "cell_type": "code",
   "execution_count": null,
   "metadata": {},
   "outputs": [],
   "source": []
  },
  {
   "cell_type": "code",
   "execution_count": null,
   "metadata": {},
   "outputs": [],
   "source": []
  },
  {
   "cell_type": "code",
   "execution_count": null,
   "metadata": {},
   "outputs": [],
   "source": []
  },
  {
   "cell_type": "markdown",
   "metadata": {},
   "source": [
    "___\n",
    "### Verificando a performance\n",
    "\n",
    "Agora você deve testar o seu classificador com a base de Testes."
   ]
  },
  {
   "cell_type": "code",
   "execution_count": null,
   "metadata": {},
   "outputs": [],
   "source": []
  },
  {
   "cell_type": "code",
   "execution_count": null,
   "metadata": {},
   "outputs": [],
   "source": []
  },
  {
   "cell_type": "code",
   "execution_count": null,
   "metadata": {},
   "outputs": [],
   "source": []
  },
  {
   "cell_type": "markdown",
   "metadata": {},
   "source": [
    "___\n",
    "### Concluindo"
   ]
  },
  {
   "cell_type": "code",
   "execution_count": null,
   "metadata": {},
   "outputs": [],
   "source": []
  },
  {
   "cell_type": "code",
   "execution_count": null,
   "metadata": {},
   "outputs": [],
   "source": []
  },
  {
   "cell_type": "markdown",
   "metadata": {},
   "source": [
    "## Aperfeiçoamento:\n",
    "\n",
    "Os trabalhos vão evoluir em conceito dependendo da quantidade de itens avançados:\n",
    "\n",
    "* Limpar: \\n, :, \", ', (, ), etc SEM remover emojis\n",
    "* Corrigir separação de espaços entre palavras e emojis ou emojis e emojis\n",
    "* Propor outras limpezas e transformações que não afetem a qualidade da informação ou classificação\n",
    "* Criar categorias intermediárias de relevância baseadas na probabilidade: ex.: muito relevante, relevante, neutro, irrelevante, muito irrelevante (3 categorias: C, mais categorias conta para B)\n",
    "* Explicar por que não posso usar o próprio classificador para gerar mais amostras de treinamento\n",
    "* Propor diferentes cenários para Naïve Bayes fora do contexto do projeto\n",
    "* Sugerir e explicar melhorias reais com indicações concretas de como implementar (indicar como fazer e indicar material de pesquisa)\n",
    "* Montar um dashboard que periodicamente realiza análise de sentimento e visualiza estes dados"
   ]
  },
  {
   "cell_type": "markdown",
   "metadata": {},
   "source": [
    "# Referências"
   ]
  },
  {
   "cell_type": "markdown",
   "metadata": {},
   "source": [
    "[Naive Bayes and Text Classification](https://arxiv.org/pdf/1410.5329.pdf)  **Mais completo**\n",
    "\n",
    "[A practical explanation of a Naive Bayes Classifier](https://monkeylearn.com/blog/practical-explanation-naive-bayes-classifier/) **Mais simples**"
   ]
  },
  {
   "cell_type": "code",
   "execution_count": null,
   "metadata": {},
   "outputs": [],
   "source": []
  }
 ],
 "metadata": {
  "kernelspec": {
   "display_name": "Python 3",
   "language": "python",
   "name": "python3"
  },
  "language_info": {
   "codemirror_mode": {
    "name": "ipython",
    "version": 3
   },
   "file_extension": ".py",
   "mimetype": "text/x-python",
   "name": "python",
   "nbconvert_exporter": "python",
   "pygments_lexer": "ipython3",
   "version": "3.7.1"
  }
 },
 "nbformat": 4,
 "nbformat_minor": 4
}
