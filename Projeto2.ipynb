{
 "cells": [
  {
   "cell_type": "markdown",
   "metadata": {},
   "source": [
    "# Projeto 2 - Ciência dos Dados"
   ]
  },
  {
   "cell_type": "markdown",
   "metadata": {},
   "source": [
    "Nome: Ellen Beatriz Shen\n",
    "\n",
    "Nome: Gabriela Moreno Boriero"
   ]
  },
  {
   "cell_type": "markdown",
   "metadata": {},
   "source": [
    "___\n",
    "# Classificador automático de sentimento\n"
   ]
  },
  {
   "cell_type": "markdown",
   "metadata": {},
   "source": [
    "## Preparando o ambiente no jupyter:"
   ]
  },
  {
   "cell_type": "code",
<<<<<<< HEAD
   "execution_count": null,
=======
   "execution_count": 2,
>>>>>>> 55cbd75a239698206eca4f2c5916eb89a161c26a
   "metadata": {
    "jupyter": {
     "outputs_hidden": true
    }
   },
   "outputs": [],
   "source": [
    "import math\n",
    "import os.path\n",
    "import pandas as pd\n",
    "import json\n",
    "from random import shuffle\n",
    "import re "
   ]
  },
  {
   "cell_type": "markdown",
   "metadata": {},
   "source": [
    "___\n",
    "### Montando o Classificador Naive-Bayes\n",
    "\n",
    "Considerando apenas as mensagens da planilha Treinamento, ensine  seu classificador."
   ]
  },
  {
   "cell_type": "code",
<<<<<<< HEAD
   "execution_count": null,
=======
   "execution_count": 3,
>>>>>>> 55cbd75a239698206eca4f2c5916eb89a161c26a
   "metadata": {},
   "outputs": [],
   "source": [
    "tudo = pd.read_excel(\"base_acai.xlsx\")\n",
    "serie_tudo = pd.Series(tudo.Treinamento)\n",
    "tabela_tudo_absoluta = serie_tudo.value_counts()"
   ]
  },
  {
   "cell_type": "code",
   "execution_count": null,
   "metadata": {},
   "outputs": [],
   "source": [
    "def cleanup(text):\n",
    "    #Função de limpeza muito simples que troca alguns sinais básicos por espaços\n",
    "    import string\n",
    "    punctuation = '[!-.:?;]' # Note que os sinais [] são delimitadores de um conjunto.\n",
    "    pattern = re.compile(punctuation)\n",
    "    text_subbed = re.sub(pattern, ' ', text)\n",
    "    return text_subbed"
   ]
  },
  {
   "cell_type": "code",
   "execution_count": null,
   "metadata": {},
   "outputs": [],
   "source": [
    "gosta_de_acai = cleanup((open(\"gosta.txt\", \"r\", encoding=\"utf8\").read()).lower())\n",
    "indiferente_acai = cleanup((open(\"indiferente.txt\", \"r\", encoding=\"utf8\").read()).lower())\n",
    "nao_gosta_de_acai = cleanup((open(\"nao_gosta.txt\", \"r\", encoding=\"utf8\").read()).lower())"
   ]
  },
  {
   "cell_type": "code",
<<<<<<< HEAD
   "execution_count": null,
=======
<<<<<<< HEAD
   "execution_count": 130,
   "metadata": {},
   "outputs": [],
   "source": [
    "tabela_gosta_absoluta = (pd.Series(gosta_de_acai.split())).value_counts()\n",
    "tabela_indiferente_absoluta = (pd.Series(indiferente_acai.split())).value_counts()\n",
    "tabela_nao_gosta_absoluta = (pd.Series(nao_gosta_de_acai.split())).value_counts()"
   ]
  },
  {
   "cell_type": "code",
   "execution_count": 124,
=======
   "execution_count": 5,
>>>>>>> a0b65c5a2f27cfcbdddbab75494361ec95df3241
>>>>>>> 55cbd75a239698206eca4f2c5916eb89a161c26a
   "metadata": {},
   "outputs": [],
   "source": [
    "numero_palavras_gosta=len(pd.Series(gosta_de_acai.split()))\n",
    "numero_palavras_n_gosta= len((pd.Series(nao_gosta_de_acai.split())))"
   ]
  },
  {
   "cell_type": "code",
<<<<<<< HEAD
   "execution_count": null,
=======
<<<<<<< HEAD
   "execution_count": 132,
=======
   "execution_count": 6,
>>>>>>> a0b65c5a2f27cfcbdddbab75494361ec95df3241
>>>>>>> 55cbd75a239698206eca4f2c5916eb89a161c26a
   "metadata": {},
   "outputs": [],
   "source": [
    "tabela_gosta_acai_relativa = (pd.Series(gosta_de_acai.split())).value_counts(True)\n",
    "tabela_indiferente_acai_relativa = (pd.Series(indiferente_acai.split())).value_counts(True)\n",
    "#ta dando diferente de 0: tabela_nao_gosta_acai_relativa\n",
    "tabela_nao_gosta_acai_relativa = (pd.Series(nao_gosta_de_acai.split())).value_counts(True)"
   ]
  },
  {
   "cell_type": "code",
<<<<<<< HEAD
   "execution_count": null,
=======
   "execution_count": 7,
<<<<<<< HEAD
   "metadata": {},
   "outputs": [],
   "source": [
    "tudo = gosta_de_acai + nao_gosta_de_acai\n",
    "\n",
    "serie_tudo = pd.Series(tudo.split())\n",
    "tabela_tudo_relativa = serie_tudo.value_counts(True)\n",
    "tabela_tudo_absoluta = serie_tudo.value_counts(False)"
   ]
  },
  {
   "cell_type": "code",
   "execution_count": 116,
   "metadata": {},
   "outputs": [],
   "source": [
    "numero_palavras_tudo= len(serie_tudo)"
=======
>>>>>>> 55cbd75a239698206eca4f2c5916eb89a161c26a
   "metadata": {},
   "outputs": [],
   "source": [
    "gosta_ind = gosta_de_acai + indiferente_acai\n",
    "gosta_ind_relativa = (pd.Series(list(gosta_ind.split()))).value_counts(True)\n",
    "\n",
    "ngosta_ind = nao_gosta_de_acai + indiferente_acai\n",
    "ngosta_ind_relativa = (pd.Series(list(ngosta_ind.split()))).value_counts(True)"
>>>>>>> a0b65c5a2f27cfcbdddbab75494361ec95df3241
   ]
  },
  {
   "cell_type": "code",
<<<<<<< HEAD
   "execution_count": null,
=======
   "execution_count": 98,
>>>>>>> 55cbd75a239698206eca4f2c5916eb89a161c26a
   "metadata": {},
   "outputs": [],
   "source": [
    "probabilidade_gosta = tabela_gosta.sum()/tabela_tudo_absoluta.sum()\n",
    "probabilidade_ngosta = tabela_nao_gosta.sum()/tabela_tudo_absoluta.sum()"
   ]
  },
  {
<<<<<<< HEAD
   "cell_type": "code",
   "execution_count": 141,
   "metadata": {
    "scrolled": true
   },
   "outputs": [],
   "source": [
    "frase = '- só queria um açaí'\n",
    "prob_frase_gosta = tabela_gosta_acai_relativa[frase.split()].prod()\n",
    "prob_frase_ngosta = tabela_nao_gosta_acai_relativa[frase.split()].prod()"
   ]
  },
  {
   "cell_type": "code",
   "execution_count": 142,
   "metadata": {},
   "outputs": [
    {
     "data": {
      "text/plain": [
       "{'- só queria um açaí': 2}"
      ]
     },
     "execution_count": 142,
     "metadata": {},
     "output_type": "execute_result"
    }
   ],
   "source": [
    "frase_g = (prob_frase_gosta*probabilidade_gosta)\n",
    "frase_ng = (prob_frase_ngosta*probabilidade_ngosta)\n",
    "\n",
    "Classificador = {}\n",
    "if frase_g > frase_ng:\n",
    "    Classificador[frase] = 0\n",
    "else:\n",
    "    Classificador[frase] = 2\n",
=======
   "cell_type": "markdown",
   "metadata": {},
   "source": [
    "___\n",
    "### Verificando a performance\n",
>>>>>>> a0b65c5a2f27cfcbdddbab75494361ec95df3241
    "\n",
    "Agora você deve testar o seu classificador com a base de Testes."
   ]
  },
  {
   "cell_type": "code",
<<<<<<< HEAD
   "execution_count": null,
=======
<<<<<<< HEAD
   "execution_count": 101,
=======
   "execution_count": 17,
>>>>>>> a0b65c5a2f27cfcbdddbab75494361ec95df3241
>>>>>>> 55cbd75a239698206eca4f2c5916eb89a161c26a
   "metadata": {},
   "outputs": [],
   "source": [
    "base_teste = pd.read_excel(\"base_acai.xlsx\",sheets=\"Teste\")\n",
    "series_tweets = pd.Series(list(base_teste.Treinamento))\n",
    "\n",
    "\n",
    "tweets_limpos = []\n",
    "for tweet in series_tweets:\n",
    "    tweets_limpos.append(cleanup(tweet.lower()))\n",
    "\n",
    "    \n",
    "classificacao = {}\n",
    "for frase in tweets_limpos:\n",
    "    palavras = list(frase.split())\n",
<<<<<<< HEAD
    "    for indice in range(len(palavras)):\n",
    "        if palavras[indice] in serie_tudo:\n",
    "            prob_gosta = tabela_gosta_acai_relativa[palavras].prod()\n",
    "            prob_ngosta = tabela_nao_gosta_acai_relativa[palavras].prod()"
   ]
  },
  {
   "cell_type": "code",
   "execution_count": 114,
   "metadata": {},
   "outputs": [
    {
     "data": {
      "text/plain": [
       "2969"
      ]
     },
     "execution_count": 114,
     "metadata": {},
     "output_type": "execute_result"
    }
   ],
   "source": [
    "num_palavras_total=len(serie_tudo)"
   ]
  },
  {
   "cell_type": "code",
   "execution_count": 117,
   "metadata": {},
   "outputs": [
    {
     "data": {
      "text/plain": [
       "{'eu amo açai': 2}"
      ]
     },
     "execution_count": 117,
     "metadata": {},
     "output_type": "execute_result"
    }
   ],
   "source": [
    "# tentando usar la place\n",
    "frase=\"eu amo açai\"\n",
    "palavras=frase.split()\n",
    "classificador_gosta=1\n",
    "classificador_n_gosta=1\n",
    "for palavra in palavras:\n",
    "    if palavra in serie_tudo:\n",
    "        prob_eu_gosta= (tabela_gosta[palavra]+1)/(numero_palavras_gosta+num_palavras_total)\n",
    "        classificador_gosta=classificador_gosta*prob_eu_gosta\n",
    "        prob_eu_n_gosta=(tabela_nao_gosta[palavra]+1)/(numero_palavras_n_gosta+num_palavras_total)\n",
    "        classificador_n_gosta=classificador_n_gosta*prob_eu_n_gosta\n",
    "    else:\n",
    "        prob_eu_gosta= (1)/(numero_pavras+xuxu)\n",
    "        classificador_gosta=classificador_gosta*prob_eu_gosta\n",
    "        prob_eu_n_gosta=(1)/(oi+xuxu)\n",
    "        classificador_n_gosta=classificador_n_gosta*prob_eu_n_gosta\n",
    "\n",
    "\n",
    "Classificador = {}\n",
    "if classificador_gosta > classificador_n_gosta:\n",
    "    Classificador[frase] = 0\n",
    "else:\n",
    "    Classificador[frase] = 2\n",
    "\n",
    "Classificador"
   ]
  },
  {
   "cell_type": "code",
   "execution_count": null,
   "metadata": {},
   "outputs": [],
   "source": []
  },
  {
   "cell_type": "code",
   "execution_count": null,
   "metadata": {},
   "outputs": [],
   "source": []
  },
  {
   "cell_type": "code",
   "execution_count": null,
   "metadata": {},
   "outputs": [],
   "source": []
  },
  {
   "cell_type": "code",
   "execution_count": null,
   "metadata": {},
   "outputs": [],
   "source": []
  },
  {
   "cell_type": "code",
   "execution_count": null,
   "metadata": {},
   "outputs": [],
   "source": []
  },
  {
   "cell_type": "markdown",
   "metadata": {},
   "source": [
    "___\n",
    "### Verificando a performance\n",
    "\n",
    "Agora você deve testar o seu classificador com a base de Testes."
=======
    "    for palavra in palavras:\n",
    "        gosta = 1\n",
    "        n_gosta = 1\n",
    "        if palavra in gosta_ind_relativa:\n",
    "            gosta *= gosta_ind_relativa[palavra]\n",
    "        if palavra in ngosta_ind_relativa:\n",
    "            n_gosta *= ngosta_ind_relativa[palavra]\n",
    "        else:\n",
    "            gosta*1\n",
    "            n_gosta*1\n",
    "    prob_gosta = probabilidade_gosta*gosta\n",
    "    prob_ngosta = probabilidade_ngosta*n_gosta\n",
    "    if prob_gosta > prob_ngosta:\n",
    "        classificacao[frase] = 0\n",
    "    else:\n",
    "        classificacao[frase] = 2\n",
    "        \n",
    "teste_classificado = pd.Series(classificacao)\n",
    "teste_classificado.to_excel(\"Classificados.xlsx\")"
>>>>>>> a0b65c5a2f27cfcbdddbab75494361ec95df3241
   ]
  },
  {
   "cell_type": "code",
   "execution_count": null,
   "metadata": {},
   "outputs": [],
   "source": []
  },
  {
   "cell_type": "code",
   "execution_count": 14,
   "metadata": {},
   "outputs": [],
   "source": [
    "# dicionario_nina = {\"nome\":\"nina\",\n",
    "#                    \"idade\":\"18\",\n",
    "#                    \"cachorro\":\"caramelo\"} "
   ]
  },
  {
   "cell_type": "code",
   "execution_count": 15,
   "metadata": {},
   "outputs": [],
   "source": [
    "# nome = dicionario_nina[\"nome\"] \n",
    "# nome"
   ]
  },
  {
   "cell_type": "code",
   "execution_count": 16,
   "metadata": {},
   "outputs": [],
   "source": [
    "# idade = dicionario_nina[\"idade\"]\n",
    "# idade"
   ]
  },
  {
   "cell_type": "code",
   "execution_count": 17,
   "metadata": {},
   "outputs": [],
   "source": [
    "# cachorro = dicionario_nina[\"cachorro\"]\n",
    "# cachorro"
   ]
  },
  {
   "cell_type": "code",
   "execution_count": 24,
   "metadata": {},
   "outputs": [],
   "source": [
    "dicionario_total = { \n",
    "    \"dicionario_nina\" :{\n",
    "        \"nome\":\"nina\",\n",
    "        \"idade\":\"18\",\n",
    "        \"cachorro\":\"caramelo\"},\n",
    "    \"dicionario_ellen\" :{\n",
    "        \"nome\":\"ellen\",\n",
    "        \"idade\":\"17\"}\n",
    "}"
   ]
  },
  {
   "cell_type": "code",
   "execution_count": 26,
   "metadata": {},
   "outputs": [
    {
     "data": {
      "text/plain": [
       "'nina'"
      ]
     },
     "execution_count": 26,
     "metadata": {},
     "output_type": "execute_result"
    }
   ],
   "source": [
    "nome = dicionario_total[\"dicionario_nina\"][\"nome\"]\n",
    "nome"
   ]
  },
  {
   "cell_type": "code",
   "execution_count": null,
   "metadata": {},
   "outputs": [],
   "source": []
  },
  {
   "cell_type": "code",
   "execution_count": null,
   "metadata": {},
   "outputs": [],
   "source": []
  },
  {
   "cell_type": "markdown",
   "metadata": {},
   "source": [
    "___\n",
    "### Concluindo"
   ]
  },
  {
   "cell_type": "markdown",
   "metadata": {},
   "source": [
    "## Aperfeiçoamento:\n",
    "\n",
    "Os trabalhos vão evoluir em conceito dependendo da quantidade de itens avançados:\n",
    "\n",
    "* Limpar: \\n, :, \", ', (, ), etc SEM remover emojis\n",
    "* Corrigir separação de espaços entre palavras e emojis ou emojis e emojis\n",
    "* Propor outras limpezas e transformações que não afetem a qualidade da informação ou classificação\n",
    "* Criar categorias intermediárias de relevância baseadas na probabilidade: ex.: muito relevante, relevante, neutro, irrelevante, muito irrelevante (3 categorias: C, mais categorias conta para B)\n",
    "* Explicar por que não posso usar o próprio classificador para gerar mais amostras de treinamento\n",
    "* Propor diferentes cenários para Naïve Bayes fora do contexto do projeto\n",
    "* Sugerir e explicar melhorias reais com indicações concretas de como implementar (indicar como fazer e indicar material de pesquisa)\n",
    "* Montar um dashboard que periodicamente realiza análise de sentimento e visualiza estes dados"
   ]
  },
  {
   "cell_type": "markdown",
   "metadata": {},
   "source": [
    "# Referências"
   ]
  },
  {
   "cell_type": "markdown",
   "metadata": {},
   "source": [
    "[Naive Bayes and Text Classification](https://arxiv.org/pdf/1410.5329.pdf)  **Mais completo**\n",
    "\n",
    "[A practical explanation of a Naive Bayes Classifier](https://monkeylearn.com/blog/practical-explanation-naive-bayes-classifier/) **Mais simples**"
   ]
  },
  {
   "cell_type": "code",
   "execution_count": null,
   "metadata": {},
   "outputs": [],
   "source": []
  }
 ],
 "metadata": {
  "kernelspec": {
   "display_name": "Python 3",
   "language": "python",
   "name": "python3"
  },
  "language_info": {
   "codemirror_mode": {
    "name": "ipython",
    "version": 3
   },
   "file_extension": ".py",
   "mimetype": "text/x-python",
   "name": "python",
   "nbconvert_exporter": "python",
   "pygments_lexer": "ipython3",
   "version": "3.7.3"
  }
 },
 "nbformat": 4,
 "nbformat_minor": 4
}
