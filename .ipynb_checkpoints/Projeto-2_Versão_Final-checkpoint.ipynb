{
 "cells": [
  {
   "cell_type": "markdown",
   "metadata": {},
   "source": [
    "# Projeto 2 - Ciência dos Dados"
   ]
  },
  {
   "cell_type": "markdown",
   "metadata": {},
   "source": [
    "Nome: Ellen Beatriz Shen\n",
    "\n",
    "Nome: Gabriela Moreno Boriero"
   ]
  },
  {
   "cell_type": "markdown",
   "metadata": {},
   "source": [
    "___\n",
    "# Classificador automático de sentimento\n"
   ]
  },
  {
   "cell_type": "markdown",
   "metadata": {},
   "source": [
    "## Preparando o ambiente no jupyter:"
   ]
  },
  {
   "cell_type": "code",
   "execution_count": 57,
   "metadata": {
    "jupyter": {
     "outputs_hidden": true
    }
   },
   "outputs": [],
   "source": [
    "import math\n",
    "import os.path\n",
    "import pandas as pd\n",
    "import json\n",
    "from random import shuffle\n",
    "import re \n",
    "import matplotlib.pyplot as plt\n",
    "import emoji\n",
    "from emoji import UNICODE_EMOJI"
   ]
  },
  {
   "cell_type": "markdown",
   "metadata": {},
   "source": [
    "___\n",
    "### Montando o Classificador Naive-Bayes\n",
    "\n",
    "Considerando apenas as mensagens da planilha Treinamento, ensine  seu classificador."
   ]
  },
  {
   "cell_type": "code",
   "execution_count": 58,
   "metadata": {},
   "outputs": [],
   "source": [
    "#Leitura do excel para treinar o código\n",
    "tudo = pd.read_excel(\"base_acai.xlsx\", sheet_name=\"Treinamento\")\n",
    "\n",
    "#Série de todos os dados + sua tabela absoluta\n",
    "serie_tudo = pd.Series(tudo.Treinamento)\n",
    "tabela_tudo_absoluta = serie_tudo.value_counts()"
   ]
  },
  {
   "cell_type": "code",
   "execution_count": 59,
   "metadata": {},
   "outputs": [],
   "source": [
    "#Função para limpar os sinais básicos e separa emojis.\n",
    "def limpeza(texto):\n",
    "    import string\n",
    "    pontuacao = '[!-.:?;]'\n",
    "    padrao = re.compile(pontuacao)\n",
    "    text_subbed = re.sub(padrao, ' ', texto)\n",
    "    letras=[]\n",
    "    for letra in text_subbed:  \n",
    "        letras.append(letra)\n",
    "    i=1\n",
    "    espaço=\" \"\n",
    "    frase_separando_emoji=\"\"\n",
    "    while i<= (len(letras)-1):        \n",
    "        if letras[i-1]==letras[i]:\n",
    "            if letras[i] in UNICODE_EMOJI:\n",
    "                frase_separando_emoji+=letras[i-1]\n",
    "                frase_separando_emoji+=(espaço)\n",
    "                frase_separando_emoji+=(letras[i])\n",
    "                letras.remove(letras[i])\n",
    "            i+=1\n",
    "        else:\n",
    "            frase_separando_emoji+=(letras[i-1])\n",
    "            i+=1\n",
    "    return frase_separando_emoji\n"
   ]
  },
  {
   "cell_type": "code",
   "execution_count": 73,
   "metadata": {},
   "outputs": [],
   "source": [
    "#limpando os dadosde treinamento\n",
    "relevante_acai = limpeza((open(\"relevante.txt\", \"r\", encoding=\"utf8\").read()).lower())\n",
    "irrelevante_acai = limpeza((open(\"irrelevante.txt\", \"r\", encoding=\"utf8\").read()).lower())"
   ]
  },
  {
   "cell_type": "code",
   "execution_count": 74,
   "metadata": {},
   "outputs": [],
   "source": [
    "#tabelas relativas e absolutas\n",
    "relevante_relativa = (pd.Series(relevante_acai.split())).value_counts(True)\n",
    "relevante_absoluta = (pd.Series(relevante_acai.split())).value_counts(False)\n",
    "\n",
    "irrelevante_relativa = (pd.Series(irrelevante_acai.split())).value_counts(True)\n",
    "irrelevante_absoluta = (pd.Series(irrelevante_acai.split())).value_counts(False)"
   ]
  },
  {
   "cell_type": "code",
   "execution_count": 76,
   "metadata": {},
   "outputs": [],
   "source": [
    "#calculando a probabilidade\n",
    "probabilidade_relevante = relevante_absoluta.sum()/tabela_tudo_absoluta.sum()\n",
    "probabilidade_irrelevante = irrelevante_absoluta.sum()/tabela_tudo_absoluta.sum()"
   ]
  },
  {
   "cell_type": "markdown",
   "metadata": {},
   "source": [
    "___\n",
    "### Verificando a performance\n",
    "\n",
    "Agora você deve testar o seu classificador com a base de Testes.\n"
   ]
  },
  {
   "cell_type": "code",
   "execution_count": 77,
   "metadata": {},
   "outputs": [],
   "source": [
    "#definindo a função Laplace\n",
    "def laplace(palavra, tabela1, tabela2):\n",
    "    if palavra in tabela1:\n",
    "        x = tabela1[palavra]\n",
    "    else:\n",
    "        x = 0\n",
    "        \n",
    "    if palavra in tabela2:\n",
    "        y = tabela2[palavra]\n",
    "    else:\n",
    "        y = 0 \n",
    "    \n",
    "    prob_relevante = (x + 1)/ (len(tabela1) + len(set(tabela1+tabela2)))\n",
    "    prob_irrelevante = (y + 1)/ (len(tabela2) + len(set(tabela1+tabela2)))\n",
    "    return [prob_relevante, prob_irrelevante]    "
   ]
  },
  {
   "cell_type": "code",
   "execution_count": 64,
   "metadata": {},
   "outputs": [],
   "source": [
    "#lendo o excel com os tweets de teste.\n",
    "base_teste = pd.read_excel(\"base_acai.xlsx\",sheet_name=\"Teste\")\n",
    "series_tweets = pd.Series(list(base_teste.Teste))"
   ]
  },
  {
   "cell_type": "code",
   "execution_count": 65,
   "metadata": {},
   "outputs": [],
   "source": [
    "#limpando os tweets do teste\n",
    "tweets_limpos = []\n",
    "for tweet in series_tweets:\n",
    "    tweets_limpos.append(limpeza(tweet.lower()))\n",
    "\n",
    "\n",
    "#treinando o classificador\n",
    "classificacao = {}\n",
    "lista_classificador=[]\n",
    "for frase in tweets_limpos:\n",
    "    palavras_da_frase = list(frase.split())\n",
    "    relevante = 1\n",
    "    irrelevante = 1\n",
    "    \n",
    "    for palavra in palavras_da_frase:\n",
    "\n",
    "        if palavra in relevante_relativa and \\\n",
    "        palavra in irrelevante_relativa:\n",
    "            relevante *= relevante_relativa[palavra]\n",
    "            irrelevante *= irrelevante_relativa[palavra]\n",
    "            \n",
    "        elif palavra in relevante_relativa and \\\n",
    "        palavra not in irrelevante_relativa:\n",
    "            relevante *= relevante_relativa[palavra]\n",
    "            irrelevante *= laplace(palavra,relevante_relativa,irrelevante_relativa)[1]\n",
    "        \n",
    "        elif palavra in irrelevante_relativa and \\\n",
    "        palavra not in relevante_relativa:\n",
    "            relevante *= laplace(palavra,relevante_relativa,irrelevante_relativa)[0]\n",
    "            irrelevante *= irrelevante_relativa[palavra]\n",
    "            \n",
    "        else:\n",
    "            relevante *= laplace(palavra,relevante_relativa,irrelevante_relativa)[0]\n",
    "            irrelevante *= laplace(palavra,relevante_relativa,irrelevante_relativa)[1]\n",
    "            \n",
    "    prob_relevante = probabilidade_relevante*relevante\n",
    "    prob_irrelevante = probabilidade_irrelevante*irrelevante\n",
    "    \n",
    "    if prob_relevante > prob_irrelevante:\n",
    "        classificacao[frase] = 0\n",
    "        lista_classificador.append(0)\n",
    "    else:\n",
    "        classificacao[frase] = 1\n",
    "        lista_classificador.append(1)\n",
    "       \n",
    "classificados = pd.Series(classificacao)"
   ]
  },
  {
   "cell_type": "code",
   "execution_count": 66,
   "metadata": {},
   "outputs": [],
   "source": [
    "#comparando o teste com a classificação \n",
    "for tweet in classificacao:\n",
    "    dic={\n",
    "        'Tweet': tweets_limpos,\n",
    "        'Resultafo Teste': lista_classificador,\n",
    "        'Classificação': base_teste[\"Classe\"]\n",
    "    }\n",
    "tabela_classifiação= pd.DataFrame(dic, columns=['Tweet','Resultafo Teste','Classificação'])"
   ]
  },
  {
   "cell_type": "code",
   "execution_count": 67,
   "metadata": {},
   "outputs": [
    {
     "name": "stdout",
     "output_type": "stream",
     "text": [
      "Porcentagem de acertos= 62.87625418060201%\n",
      "Porcentagem de erros= 37.45819397993311%\n"
     ]
    }
   ],
   "source": [
    "certos=0\n",
    "errados=0\n",
    "\n",
    "for teste,certo in zip(lista_classificador,base_teste[\"Classe\"]):\n",
    "    if teste==certo:\n",
    "        certos+=1\n",
    "    else:\n",
    "        errados+=1\n",
    "       \n",
    "porcentagem_certos=(certos/299)*100\n",
    "porcentagem_errados=(errados/299)*100\n",
    "print(\"Porcentagem de acertos= {}%\".format(porcentagem_certos))\n",
    "print(\"Porcentagem de erros= {}%\".format(porcentagem_errados))"
   ]
  },
  {
   "cell_type": "code",
   "execution_count": 68,
   "metadata": {},
   "outputs": [
    {
     "name": "stdout",
     "output_type": "stream",
     "text": [
      "Porcentagem de verdadeiros positivos: 56.76855895196506%\n",
      "Porcentagem de falsos positivos: 41.04803493449782%\n",
      "Porcentagem de verdadeiros negativos: 25.327510917030565%\n",
      "Porcentagem de falsos negativos: 0.43668122270742354%\n"
     ]
    }
   ],
   "source": [
    "verdadeiros_positivo=0\n",
    "falsos_positivos=0\n",
    "verdadeiros_negativos=0\n",
    "falsos_negativos=0\n",
    "#relevante=0 e irrelevante=1\n",
    "for resultado_teste,resultado_certo in zip(lista_classificador,base_teste[\"Classe\"]):\n",
    "    if resultado_certo==0 and resultado_teste==0:\n",
    "        verdadeiros_positivo+=1\n",
    "    elif resultado_certo==1 and resultado_teste==0:\n",
    "        falsos_positivos+=1\n",
    "    elif resultado_certo==1 and resultado_teste==1:\n",
    "        verdadeiros_negativos+=1\n",
    "    elif falsos_negativos==0 and resultado_teste==1:\n",
    "        falsos_negativos+=1\n",
    "    \n",
    "Porcentagem_verdadeiros_positivo=(verdadeiros_positivo/229)*100\n",
    "Porcentagem_falsos_positivos=(falsos_positivos/229)*100\n",
    "Porcentagem_verdadeiros_negativos=(verdadeiros_negativos/229)*100\n",
    "Porcentagem_falsos_negativos=(falsos_negativos/229)*100\n",
    "\n",
    "print(\"Porcentagem de verdadeiros positivos: {}%\".format(Porcentagem_verdadeiros_positivo))\n",
    "print(\"Porcentagem de falsos positivos: {}%\".format(Porcentagem_falsos_positivos))\n",
    "print(\"Porcentagem de verdadeiros negativos: {}%\".format(Porcentagem_verdadeiros_negativos))\n",
    "print(\"Porcentagem de falsos negativos: {}%\".format(Porcentagem_falsos_negativos))\n",
    "\n"
   ]
  },
  {
   "cell_type": "markdown",
   "metadata": {},
   "source": [
    "___\n",
    "### Concluindo"
   ]
  },
  {
   "cell_type": "code",
   "execution_count": 72,
   "metadata": {},
   "outputs": [
    {
     "data": {
      "text/html": [
       "<div>\n",
       "<style scoped>\n",
       "    .dataframe tbody tr th:only-of-type {\n",
       "        vertical-align: middle;\n",
       "    }\n",
       "\n",
       "    .dataframe tbody tr th {\n",
       "        vertical-align: top;\n",
       "    }\n",
       "\n",
       "    .dataframe thead th {\n",
       "        text-align: right;\n",
       "    }\n",
       "</style>\n",
       "<table border=\"1\" class=\"dataframe\">\n",
       "  <thead>\n",
       "    <tr style=\"text-align: right;\">\n",
       "      <th></th>\n",
       "      <th>Métodos</th>\n",
       "      <th>Porcentagem de acertos(%)</th>\n",
       "      <th>Porcentagem de verdadeiros positivos(%)</th>\n",
       "      <th>Porcentagem de falsos positivos(%)</th>\n",
       "      <th>Porcentagem de verdadeiros negativos(%)</th>\n",
       "      <th>Porcentagem de falsos negativos(%)</th>\n",
       "    </tr>\n",
       "  </thead>\n",
       "  <tbody>\n",
       "    <tr>\n",
       "      <th>0</th>\n",
       "      <td>Sem Laplace</td>\n",
       "      <td>62.876254</td>\n",
       "      <td>56.768559</td>\n",
       "      <td>41.048035</td>\n",
       "      <td>25.327511</td>\n",
       "      <td>0.436681</td>\n",
       "    </tr>\n",
       "    <tr>\n",
       "      <th>1</th>\n",
       "      <td>Com Laplace</td>\n",
       "      <td>61.872910</td>\n",
       "      <td>55.895197</td>\n",
       "      <td>41.484716</td>\n",
       "      <td>24.890830</td>\n",
       "      <td>0.436681</td>\n",
       "    </tr>\n",
       "    <tr>\n",
       "      <th>2</th>\n",
       "      <td>Laplace + separação de emoji</td>\n",
       "      <td>62.876254</td>\n",
       "      <td>56.768559</td>\n",
       "      <td>41.048035</td>\n",
       "      <td>25.327511</td>\n",
       "      <td>0.436681</td>\n",
       "    </tr>\n",
       "  </tbody>\n",
       "</table>\n",
       "</div>"
      ],
      "text/plain": [
       "                        Métodos  Porcentagem de acertos(%)  \\\n",
       "0                   Sem Laplace                  62.876254   \n",
       "1                   Com Laplace                  61.872910   \n",
       "2  Laplace + separação de emoji                  62.876254   \n",
       "\n",
       "   Porcentagem de verdadeiros positivos(%)  \\\n",
       "0                                56.768559   \n",
       "1                                55.895197   \n",
       "2                                56.768559   \n",
       "\n",
       "   Porcentagem de falsos positivos(%)  \\\n",
       "0                           41.048035   \n",
       "1                           41.484716   \n",
       "2                           41.048035   \n",
       "\n",
       "   Porcentagem de verdadeiros negativos(%)  Porcentagem de falsos negativos(%)  \n",
       "0                                25.327511                            0.436681  \n",
       "1                                24.890830                            0.436681  \n",
       "2                                25.327511                            0.436681  "
      ]
     },
     "execution_count": 72,
     "metadata": {},
     "output_type": "execute_result"
    }
   ],
   "source": [
    "#dados obtidos por meio de outro notebook (foram tirados para deixar mais limpo)\n",
    "por_acerts_sem_laplace=62.87625418060201\n",
    "por_V_P_sem_laplace= 56.76855895196506\n",
    "por_F_P_sem_laplace= 41.04803493449782\n",
    "por_V_N_sem_laplace= 25.327510917030565\n",
    "por_F_N_sem_laplace= 0.43668122270742354\n",
    "\n",
    "porcentagem_certos_sem_separar_emoji= 61.87290969899666\n",
    "Porcentagem_verdadeiros_positivo_sem_separar_emoji= 55.895196506550214\n",
    "Porcentagem_falsos_positivos_sem_separar_emoji= 41.48471615720524\n",
    "Porcentagem_verdadeiros_negativos_sem_separar_emoji= 24.890829694323145\n",
    "Porcentagem_falsos_negativos_sem_separar_emoji= 0.43668122270742354\n",
    "\n",
    "data = {\n",
    "'Métodos': ['Sem Laplace', 'Com Laplace', 'Laplace + separação de emoji'],\n",
    "'Porcentagem de acertos(%)': [por_acerts_sem_laplace,porcentagem_certos_sem_separar_emoji,porcentagem_certos],\n",
    "'Porcentagem de verdadeiros positivos(%)':[por_V_P_sem_laplace,Porcentagem_verdadeiros_positivo_sem_separar_emoji,Porcentagem_verdadeiros_positivo],\n",
    "'Porcentagem de falsos positivos(%)':[por_F_P_sem_laplace,Porcentagem_falsos_positivos_sem_separar_emoji,Porcentagem_falsos_positivos],\n",
    "'Porcentagem de verdadeiros negativos(%)':[por_V_N_sem_laplace,Porcentagem_verdadeiros_negativos_sem_separar_emoji,Porcentagem_verdadeiros_negativos],\n",
    "'Porcentagem de falsos negativos(%)':[por_F_N_sem_laplace,Porcentagem_falsos_negativos_sem_separar_emoji,Porcentagem_falsos_negativos]\n",
    "}\n",
    "tabela_SEMxCOMxEMOJI = pd.DataFrame(data, columns=['Métodos', 'Porcentagem de acertos(%)','Porcentagem de verdadeiros positivos(%)','Porcentagem de falsos positivos(%)','Porcentagem de verdadeiros negativos(%)','Porcentagem de falsos negativos(%)'])\n",
    "tabela_SEMxCOMxEMOJI\n"
   ]
  },
  {
   "cell_type": "markdown",
   "metadata": {},
   "source": [
    "O trabalho incialmente foi realizado sem a utilização do método La place, os quais foram possiveis obter os resultados mostrados na tabela acima. Posteriormente, com intuito de aprimorar o código, foi utilizado o método La place (apresentado pelo indice 1). Assim, ao comparar os dois métodos foi possível observar que os valores são muito próximos. \n",
    "Além de usar La place, outra forma de melhorar o código foi por meio da correção da separação entre os emojis. A partir dessa modificação foi possivel observar que a porcentagem de falsos positivos diminuiu aproximadamente 0,4357%, além disso houve um aumento de aproximadamente 1% nos acertos (se forem consideradas apenas certo e errado em relação a classificação anteriormente realizada)"
   ]
  },
  {
   "cell_type": "markdown",
   "metadata": {},
   "source": [
    "Com intuito de melhorar o código outras possíveis interações seriam:\n",
    "    1. Criar mais categorias e classificar também como gosto ou não gosto (por exemplo)-\n",
    "        Para isso seria necessário classificar os tweets nas categorias e calcular a probabilidade de ocorrer cada uma das opções(como realizado no código acima)\n",
    "    2. "
   ]
  }
 ],
 "metadata": {
  "kernelspec": {
   "display_name": "Python 3",
   "language": "python",
   "name": "python3"
  },
  "language_info": {
   "codemirror_mode": {
    "name": "ipython",
    "version": 3
   },
   "file_extension": ".py",
   "mimetype": "text/x-python",
   "name": "python",
   "nbconvert_exporter": "python",
   "pygments_lexer": "ipython3",
   "version": "3.7.3"
  }
 },
 "nbformat": 4,
 "nbformat_minor": 4
}
